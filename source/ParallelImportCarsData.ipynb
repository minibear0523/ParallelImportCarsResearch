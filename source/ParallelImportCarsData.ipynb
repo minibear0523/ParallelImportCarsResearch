{
 "cells": [
  {
   "cell_type": "markdown",
   "metadata": {},
   "source": [
    "# 平行进口汽车行业调研报告"
   ]
  },
  {
   "cell_type": "code",
   "execution_count": 30,
   "metadata": {
    "collapsed": true
   },
   "outputs": [],
   "source": [
    "from selenium import webdriver\n",
    "from selenium.webdriver import ActionChains\n",
    "from selenium.webdriver.common.by import By\n",
    "from selenium.webdriver.support.ui import WebDriverWait\n",
    "from selenium.webdriver.support import expected_conditions as EC\n",
    "from selenium.webdriver.common.keys import Keys\n",
    "from lxml import etree\n",
    "import time"
   ]
  },
  {
   "cell_type": "markdown",
   "metadata": {},
   "source": [
    "## 汽车品牌名录"
   ]
  },
  {
   "cell_type": "code",
   "execution_count": 41,
   "metadata": {},
   "outputs": [],
   "source": [
    "brand_url = 'http://www.autohome.com.cn/grade/carhtml/%s.html'\n",
    "brand_xpath = '//dt/div/a/text()'\n",
    "chars = [chr(i) for i in range(65, 91)]"
   ]
  },
  {
   "cell_type": "code",
   "execution_count": 45,
   "metadata": {},
   "outputs": [],
   "source": [
    "brands = []\n",
    "for alphabeta in chars:\n",
    "    url = brand_url % alphabeta\n",
    "    req = requests.get(url)\n",
    "    if req.status_code == 200:\n",
    "        tree = etree.HTML(req.text)\n",
    "        if tree is not  None:\n",
    "            brands = brands + tree.xpath(brand_xpath)\n",
    "    time.sleep(2)"
   ]
  },
  {
   "cell_type": "code",
   "execution_count": 46,
   "metadata": {},
   "outputs": [
    {
     "name": "stdout",
     "output_type": "stream",
     "text": [
      "['奥迪', '阿斯顿・马丁', 'AC Schnitzer', '安凯客车', '阿尔法・罗密欧', 'ALPINA', 'ARCFOX', 'Arash', '艾康尼克', '奔驰', '本田', '宝马', '别克', '比亚迪', '宝骏', '标致', '保时捷', '北汽幻速', '北京', '北汽绅宝', '宝沃', '宾利', '奔腾', '北汽新能源', '北汽制造', '北汽威旺', '巴博斯', '布加迪', '比速汽车', '北汽道达', '长安', '长城', '长安欧尚', '昌河', '成功汽车', '长安跨越', '长安轻型车', 'Caterham', '长江EV', '大众', '东风', '东风风行', 'DS', '东风风神', '东风风光', '东南', '东风小康', '道奇', '东风风度', 'Dacia', 'DMC', '大发', '丰田', '福特', '法拉利', '福田', '菲亚特', '福迪', '福汽启腾', '福田乘用车', 'Faraday Future', 'Fisker', '广汽传祺', '观致', 'GMC', '广汽吉奥', 'GLM', 'Gumpert', '光冈', '哈弗', '海马', '黄海', '红旗', '华颂', '华泰新能源', '哈飞', '华凯', '海格', '恒天', '华泰', '汉腾汽车', '华骐', 'Hennessey', '悍马', '华利', '华普', '霍顿', 'Icona', '吉利汽车', 'Jeep', '江淮', '捷豹', '金杯', '江铃', '江铃集团轻汽', '金龙', '九龙', '金旅', '江铃集团新能源', '凯迪拉克', '克莱斯勒', '开瑞', 'KTM', '凯翼', '科尼赛克', '卡威', '卡尔森', '凯佰赫', '雷克萨斯', '路虎', '铃木', '雷诺', '林肯', '猎豹汽车', '劳斯莱斯', '兰博基尼', '陆风', '力帆汽车', '路特斯', '莲花汽车', '理念', 'LeSEE', '蓝旗亚', '朗世', '领克', '领志', '马自达', '名爵', '玛莎拉蒂', 'MINI', '迈凯伦', '摩根', '迈巴赫', '纳智捷', '南京金龙', 'nanoFLOWCELL', 'NEVS', 'Noble', '讴歌', '欧朗', '欧宝', '帕加尼', 'Polestar', '佩奇奥', '起亚', '奇瑞', '启辰', '奇点汽车', '前途', '日产', '荣威', '如虎', 'Rezvani', 'Rimac', 'Rinspeed', '瑞麒', '三菱', '斯柯达', '上汽大通', '斯巴鲁', '赛麟', '双龙', 'smart', '思铭', 'SWM斯威汽车', '世爵', 'Scion', 'SPIRRA', 'SSC', '萨博', '上海', '双环', '特斯拉', '腾势', '泰克鲁斯・腾风', 'VLF Automotive', '沃尔沃', '五菱汽车', 'WEY', '五十铃', '威兹曼', '潍柴英致', 'W Motors', '威麟', '威马汽车', '蔚来', '沃克斯豪尔', '雪佛兰', '现代', '雪铁龙', '西雅特', '小鹏汽车', '英菲尼迪', '一汽', '依维柯', '野马汽车', '驭胜', '裕路', '永源', '云度', '游侠', '众泰', '中华', '中兴', '知豆', '之诺', 'Zenvo', '正道汽车']\n"
     ]
    }
   ],
   "source": [
    "print(brands)"
   ]
  },
  {
   "cell_type": "markdown",
   "metadata": {},
   "source": [
    "根据汽车之家的品牌选车, 目前中国市场在售品牌共有208个."
   ]
  },
  {
   "cell_type": "markdown",
   "metadata": {},
   "source": [
    "## 车金宝平行进口车名录"
   ]
  },
  {
   "cell_type": "code",
   "execution_count": 1,
   "metadata": {},
   "outputs": [],
   "source": [
    "import pandas as pd"
   ]
  },
  {
   "cell_type": "code",
   "execution_count": 2,
   "metadata": {},
   "outputs": [],
   "source": [
    "cars = pd.read_csv('chejinbao_cars.csv')"
   ]
  },
  {
   "cell_type": "code",
   "execution_count": 3,
   "metadata": {},
   "outputs": [
    {
     "data": {
      "text/html": [
       "<div>\n",
       "<style>\n",
       "    .dataframe thead tr:only-child th {\n",
       "        text-align: right;\n",
       "    }\n",
       "\n",
       "    .dataframe thead th {\n",
       "        text-align: left;\n",
       "    }\n",
       "\n",
       "    .dataframe tbody tr th {\n",
       "        vertical-align: top;\n",
       "    }\n",
       "</style>\n",
       "<table border=\"1\" class=\"dataframe\">\n",
       "  <thead>\n",
       "    <tr style=\"text-align: right;\">\n",
       "      <th></th>\n",
       "      <th>name</th>\n",
       "      <th>displacement</th>\n",
       "      <th>price</th>\n",
       "      <th>sale_type</th>\n",
       "      <th>version</th>\n",
       "      <th>fuel_type</th>\n",
       "      <th>model</th>\n",
       "      <th>chejinbao_id</th>\n",
       "    </tr>\n",
       "  </thead>\n",
       "  <tbody>\n",
       "    <tr>\n",
       "      <th>0</th>\n",
       "      <td>奥迪</td>\n",
       "      <td>3.0L</td>\n",
       "      <td>67.5</td>\n",
       "      <td>现车</td>\n",
       "      <td>美规</td>\n",
       "      <td>汽油</td>\n",
       "      <td>SUV</td>\n",
       "      <td>154</td>\n",
       "    </tr>\n",
       "    <tr>\n",
       "      <th>1</th>\n",
       "      <td>宾利飞驰</td>\n",
       "      <td>4.0L</td>\n",
       "      <td>260.0</td>\n",
       "      <td>现车</td>\n",
       "      <td>美规</td>\n",
       "      <td>汽油</td>\n",
       "      <td>轿车</td>\n",
       "      <td>143</td>\n",
       "    </tr>\n",
       "    <tr>\n",
       "      <th>2</th>\n",
       "      <td>F-PACE 2.0T都市尊享版</td>\n",
       "      <td>2.0L</td>\n",
       "      <td>54.8</td>\n",
       "      <td>期车</td>\n",
       "      <td>NaN</td>\n",
       "      <td>汽油</td>\n",
       "      <td>SUV</td>\n",
       "      <td>158</td>\n",
       "    </tr>\n",
       "    <tr>\n",
       "      <th>3</th>\n",
       "      <td>大切诺基</td>\n",
       "      <td>3.0L</td>\n",
       "      <td>57.99</td>\n",
       "      <td>现车</td>\n",
       "      <td>美规</td>\n",
       "      <td>汽油</td>\n",
       "      <td>SUV</td>\n",
       "      <td>139</td>\n",
       "    </tr>\n",
       "    <tr>\n",
       "      <th>4</th>\n",
       "      <td>加版XC90</td>\n",
       "      <td>2.0L</td>\n",
       "      <td>63.5</td>\n",
       "      <td>现车</td>\n",
       "      <td>加版</td>\n",
       "      <td>汽油</td>\n",
       "      <td>SUV</td>\n",
       "      <td>202</td>\n",
       "    </tr>\n",
       "  </tbody>\n",
       "</table>\n",
       "</div>"
      ],
      "text/plain": [
       "               name displacement  price sale_type version fuel_type model  \\\n",
       "0                奥迪         3.0L   67.5        现车      美规        汽油   SUV   \n",
       "1              宾利飞驰         4.0L  260.0        现车      美规        汽油    轿车   \n",
       "2  F-PACE 2.0T都市尊享版         2.0L   54.8        期车     NaN        汽油   SUV   \n",
       "3              大切诺基         3.0L  57.99        现车      美规        汽油   SUV   \n",
       "4            加版XC90         2.0L   63.5        现车      加版        汽油   SUV   \n",
       "\n",
       "   chejinbao_id  \n",
       "0           154  \n",
       "1           143  \n",
       "2           158  \n",
       "3           139  \n",
       "4           202  "
      ]
     },
     "execution_count": 3,
     "metadata": {},
     "output_type": "execute_result"
    }
   ],
   "source": [
    "cars.head()"
   ]
  },
  {
   "cell_type": "code",
   "execution_count": 4,
   "metadata": {},
   "outputs": [
    {
     "data": {
      "text/plain": [
       "SUV    136\n",
       "跑车      18\n",
       "MPV     11\n",
       "轿车       8\n",
       "皮卡       6\n",
       "房车       1\n",
       "Name: model, dtype: int64"
      ]
     },
     "execution_count": 4,
     "metadata": {},
     "output_type": "execute_result"
    }
   ],
   "source": [
    "cars['model'].value_counts()"
   ]
  },
  {
   "cell_type": "markdown",
   "metadata": {},
   "source": [
    "车金宝上的销售主要以SUV为主, 比例高达74.7%."
   ]
  },
  {
   "cell_type": "code",
   "execution_count": 5,
   "metadata": {},
   "outputs": [
    {
     "data": {
      "text/plain": [
       "汽油    154\n",
       "柴油      3\n",
       "电力      2\n",
       "Name: fuel_type, dtype: int64"
      ]
     },
     "execution_count": 5,
     "metadata": {},
     "output_type": "execute_result"
    }
   ],
   "source": [
    "cars['fuel_type'].value_counts()"
   ]
  },
  {
   "cell_type": "markdown",
   "metadata": {},
   "source": [
    "受限于排放标准和行驶标准的不同, 车金宝上的平行进口车仍然以汽油车为主, 柴油和新能源汽车比例很小."
   ]
  },
  {
   "cell_type": "code",
   "execution_count": 6,
   "metadata": {
    "scrolled": true
   },
   "outputs": [
    {
     "data": {
      "text/plain": [
       "3.0L     56\n",
       "2.7L     28\n",
       "4.0L     25\n",
       "2.0L     21\n",
       "3.5L     13\n",
       "5.7L      7\n",
       "3.6L      7\n",
       "2.3L      7\n",
       "6.2L      3\n",
       "1.3L      2\n",
       "5.0L      2\n",
       "0.0L      2\n",
       "5.3L      2\n",
       "15.0L     1\n",
       "1.7L      1\n",
       "2.8L      1\n",
       "5.6L      1\n",
       "6.0L      1\n",
       "4.6L      1\n",
       "6.6L      1\n",
       "Name: displacement, dtype: int64"
      ]
     },
     "execution_count": 6,
     "metadata": {},
     "output_type": "execute_result"
    }
   ],
   "source": [
    "cars['displacement'].value_counts()"
   ]
  },
  {
   "cell_type": "code",
   "execution_count": 9,
   "metadata": {
    "scrolled": true
   },
   "outputs": [
    {
     "ename": "AttributeError",
     "evalue": "'float' object has no attribute 'replace'",
     "output_type": "error",
     "traceback": [
      "\u001b[0;31m---------------------------------------------------------------------------\u001b[0m",
      "\u001b[0;31mAttributeError\u001b[0m                            Traceback (most recent call last)",
      "\u001b[0;32m<ipython-input-9-bf4a97602777>\u001b[0m in \u001b[0;36m<module>\u001b[0;34m()\u001b[0m\n\u001b[1;32m      1\u001b[0m \u001b[0;31m# 将displacement直接清洗为float类型,便于比较\u001b[0m\u001b[0;34m\u001b[0m\u001b[0;34m\u001b[0m\u001b[0m\n\u001b[0;32m----> 2\u001b[0;31m \u001b[0mcars\u001b[0m\u001b[0;34m[\u001b[0m\u001b[0;34m'displacement'\u001b[0m\u001b[0;34m]\u001b[0m \u001b[0;34m=\u001b[0m \u001b[0mcars\u001b[0m\u001b[0;34m[\u001b[0m\u001b[0;34m'displacement'\u001b[0m\u001b[0;34m]\u001b[0m\u001b[0;34m.\u001b[0m\u001b[0mapply\u001b[0m\u001b[0;34m(\u001b[0m\u001b[0;32mlambda\u001b[0m \u001b[0mx\u001b[0m\u001b[0;34m:\u001b[0m \u001b[0mfloat\u001b[0m\u001b[0;34m(\u001b[0m\u001b[0mx\u001b[0m\u001b[0;34m.\u001b[0m\u001b[0mreplace\u001b[0m\u001b[0;34m(\u001b[0m\u001b[0;34m'L'\u001b[0m\u001b[0;34m,\u001b[0m \u001b[0;34m''\u001b[0m\u001b[0;34m)\u001b[0m\u001b[0;34m)\u001b[0m\u001b[0;34m)\u001b[0m\u001b[0;34m\u001b[0m\u001b[0m\n\u001b[0m\u001b[1;32m      3\u001b[0m \u001b[0mcars\u001b[0m\u001b[0;34m[\u001b[0m\u001b[0;34m'displacement'\u001b[0m\u001b[0;34m]\u001b[0m\u001b[0;34m.\u001b[0m\u001b[0mvalue_counts\u001b[0m\u001b[0;34m(\u001b[0m\u001b[0;34m)\u001b[0m\u001b[0;34m\u001b[0m\u001b[0m\n",
      "\u001b[0;32m/usr/local/lib/python3.6/site-packages/pandas/core/series.py\u001b[0m in \u001b[0;36mapply\u001b[0;34m(self, func, convert_dtype, args, **kwds)\u001b[0m\n\u001b[1;32m   2353\u001b[0m             \u001b[0;32melse\u001b[0m\u001b[0;34m:\u001b[0m\u001b[0;34m\u001b[0m\u001b[0m\n\u001b[1;32m   2354\u001b[0m                 \u001b[0mvalues\u001b[0m \u001b[0;34m=\u001b[0m \u001b[0mself\u001b[0m\u001b[0;34m.\u001b[0m\u001b[0masobject\u001b[0m\u001b[0;34m\u001b[0m\u001b[0m\n\u001b[0;32m-> 2355\u001b[0;31m                 \u001b[0mmapped\u001b[0m \u001b[0;34m=\u001b[0m \u001b[0mlib\u001b[0m\u001b[0;34m.\u001b[0m\u001b[0mmap_infer\u001b[0m\u001b[0;34m(\u001b[0m\u001b[0mvalues\u001b[0m\u001b[0;34m,\u001b[0m \u001b[0mf\u001b[0m\u001b[0;34m,\u001b[0m \u001b[0mconvert\u001b[0m\u001b[0;34m=\u001b[0m\u001b[0mconvert_dtype\u001b[0m\u001b[0;34m)\u001b[0m\u001b[0;34m\u001b[0m\u001b[0m\n\u001b[0m\u001b[1;32m   2356\u001b[0m \u001b[0;34m\u001b[0m\u001b[0m\n\u001b[1;32m   2357\u001b[0m         \u001b[0;32mif\u001b[0m \u001b[0mlen\u001b[0m\u001b[0;34m(\u001b[0m\u001b[0mmapped\u001b[0m\u001b[0;34m)\u001b[0m \u001b[0;32mand\u001b[0m \u001b[0misinstance\u001b[0m\u001b[0;34m(\u001b[0m\u001b[0mmapped\u001b[0m\u001b[0;34m[\u001b[0m\u001b[0;36m0\u001b[0m\u001b[0;34m]\u001b[0m\u001b[0;34m,\u001b[0m \u001b[0mSeries\u001b[0m\u001b[0;34m)\u001b[0m\u001b[0;34m:\u001b[0m\u001b[0;34m\u001b[0m\u001b[0m\n",
      "\u001b[0;32mpandas/_libs/src/inference.pyx\u001b[0m in \u001b[0;36mpandas._libs.lib.map_infer (pandas/_libs/lib.c:66645)\u001b[0;34m()\u001b[0m\n",
      "\u001b[0;32m<ipython-input-9-bf4a97602777>\u001b[0m in \u001b[0;36m<lambda>\u001b[0;34m(x)\u001b[0m\n\u001b[1;32m      1\u001b[0m \u001b[0;31m# 将displacement直接清洗为float类型,便于比较\u001b[0m\u001b[0;34m\u001b[0m\u001b[0;34m\u001b[0m\u001b[0m\n\u001b[0;32m----> 2\u001b[0;31m \u001b[0mcars\u001b[0m\u001b[0;34m[\u001b[0m\u001b[0;34m'displacement'\u001b[0m\u001b[0;34m]\u001b[0m \u001b[0;34m=\u001b[0m \u001b[0mcars\u001b[0m\u001b[0;34m[\u001b[0m\u001b[0;34m'displacement'\u001b[0m\u001b[0;34m]\u001b[0m\u001b[0;34m.\u001b[0m\u001b[0mapply\u001b[0m\u001b[0;34m(\u001b[0m\u001b[0;32mlambda\u001b[0m \u001b[0mx\u001b[0m\u001b[0;34m:\u001b[0m \u001b[0mfloat\u001b[0m\u001b[0;34m(\u001b[0m\u001b[0mx\u001b[0m\u001b[0;34m.\u001b[0m\u001b[0mreplace\u001b[0m\u001b[0;34m(\u001b[0m\u001b[0;34m'L'\u001b[0m\u001b[0;34m,\u001b[0m \u001b[0;34m''\u001b[0m\u001b[0;34m)\u001b[0m\u001b[0;34m)\u001b[0m\u001b[0;34m)\u001b[0m\u001b[0;34m\u001b[0m\u001b[0m\n\u001b[0m\u001b[1;32m      3\u001b[0m \u001b[0mcars\u001b[0m\u001b[0;34m[\u001b[0m\u001b[0;34m'displacement'\u001b[0m\u001b[0;34m]\u001b[0m\u001b[0;34m.\u001b[0m\u001b[0mvalue_counts\u001b[0m\u001b[0;34m(\u001b[0m\u001b[0;34m)\u001b[0m\u001b[0;34m\u001b[0m\u001b[0m\n",
      "\u001b[0;31mAttributeError\u001b[0m: 'float' object has no attribute 'replace'"
     ]
    }
   ],
   "source": [
    "# 将displacement直接清洗为float类型,便于比较\n",
    "cars['displacement'] = cars['displacement'].apply(lambda x: float(x.replace('L', '')))"
   ]
  },
  {
   "cell_type": "code",
   "execution_count": 10,
   "metadata": {
    "scrolled": true
   },
   "outputs": [
    {
     "data": {
      "text/plain": [
       "3.0     56\n",
       "2.7     28\n",
       "4.0     25\n",
       "2.0     21\n",
       "3.5     13\n",
       "5.7      7\n",
       "3.6      7\n",
       "2.3      7\n",
       "6.2      3\n",
       "5.0      2\n",
       "0.0      2\n",
       "1.3      2\n",
       "5.3      2\n",
       "6.0      1\n",
       "1.7      1\n",
       "15.0     1\n",
       "4.6      1\n",
       "5.6      1\n",
       "6.6      1\n",
       "2.8      1\n",
       "Name: displacement, dtype: int64"
      ]
     },
     "execution_count": 10,
     "metadata": {},
     "output_type": "execute_result"
    }
   ],
   "source": [
    "cars['displacement'].value_counts()"
   ]
  },
  {
   "cell_type": "code",
   "execution_count": 13,
   "metadata": {},
   "outputs": [
    {
     "data": {
      "text/plain": [
       "name            62\n",
       "displacement    62\n",
       "price           62\n",
       "sale_type       62\n",
       "version         57\n",
       "fuel_type       62\n",
       "model           60\n",
       "chejinbao_id    62\n",
       "dtype: int64"
      ]
     },
     "execution_count": 13,
     "metadata": {},
     "output_type": "execute_result"
    }
   ],
   "source": [
    "# 按照进口车关税分类, 区分开3.0L以上和以下的数量\n",
    "cars[cars['displacement']<3.0].count()"
   ]
  },
  {
   "cell_type": "markdown",
   "metadata": {},
   "source": [
    "排量在3.0L以下的平行进口车有62辆, 占比只有34%."
   ]
  },
  {
   "cell_type": "code",
   "execution_count": 14,
   "metadata": {},
   "outputs": [
    {
     "data": {
      "text/plain": [
       "现车    148\n",
       "期车     34\n",
       "Name: sale_type, dtype: int64"
      ]
     },
     "execution_count": 14,
     "metadata": {},
     "output_type": "execute_result"
    }
   ],
   "source": [
    "cars['sale_type'].value_counts()"
   ]
  },
  {
   "cell_type": "markdown",
   "metadata": {},
   "source": [
    "车金宝上的平行进口车是现车的数量为148, 占比高达81.3%"
   ]
  },
  {
   "cell_type": "code",
   "execution_count": 15,
   "metadata": {},
   "outputs": [
    {
     "data": {
      "text/plain": [
       "中东    65\n",
       "美规    41\n",
       "欧规    35\n",
       "加版    29\n",
       "墨版     2\n",
       "Name: version, dtype: int64"
      ]
     },
     "execution_count": 15,
     "metadata": {},
     "output_type": "execute_result"
    }
   ],
   "source": [
    "cars['version'].value_counts()"
   ]
  },
  {
   "cell_type": "markdown",
   "metadata": {},
   "source": [
    "可以看到, 中东版和美规的数量高达106个, 占比达到了58.2%. 而这两个地区的车辆价格相对较低. 价格成为了主要市场的主要驱动力."
   ]
  },
  {
   "cell_type": "markdown",
   "metadata": {},
   "source": [
    "## 汽车之家车商城平行进口车数据"
   ]
  },
  {
   "cell_type": "code",
   "execution_count": 3,
   "metadata": {},
   "outputs": [],
   "source": [
    "autohome_cars = pd.read_csv('autohome_cars.csv')"
   ]
  },
  {
   "cell_type": "code",
   "execution_count": 4,
   "metadata": {},
   "outputs": [
    {
     "data": {
      "text/html": [
       "<div>\n",
       "<style>\n",
       "    .dataframe thead tr:only-child th {\n",
       "        text-align: right;\n",
       "    }\n",
       "\n",
       "    .dataframe thead th {\n",
       "        text-align: left;\n",
       "    }\n",
       "\n",
       "    .dataframe tbody tr th {\n",
       "        vertical-align: top;\n",
       "    }\n",
       "</style>\n",
       "<table border=\"1\" class=\"dataframe\">\n",
       "  <thead>\n",
       "    <tr style=\"text-align: right;\">\n",
       "      <th></th>\n",
       "      <th>spec_id</th>\n",
       "      <th>price</th>\n",
       "      <th>item_id</th>\n",
       "      <th>name</th>\n",
       "      <th>official_price</th>\n",
       "      <th>brand</th>\n",
       "      <th>level</th>\n",
       "      <th>engine</th>\n",
       "    </tr>\n",
       "  </thead>\n",
       "  <tbody>\n",
       "    <tr>\n",
       "      <th>0</th>\n",
       "      <td>11000264</td>\n",
       "      <td>NaN</td>\n",
       "      <td>372013</td>\n",
       "      <td>奔驰GLS450 2017款 3.0T汽油版</td>\n",
       "      <td>134.3万</td>\n",
       "      <td>奔驰</td>\n",
       "      <td>大型SUV</td>\n",
       "      <td>3.0T 汽油</td>\n",
       "    </tr>\n",
       "    <tr>\n",
       "      <th>1</th>\n",
       "      <td>11000316</td>\n",
       "      <td>NaN</td>\n",
       "      <td>256992</td>\n",
       "      <td>2017款 2.3T美规自动挡标配</td>\n",
       "      <td>400000</td>\n",
       "      <td>福特(进口)</td>\n",
       "      <td>跑车</td>\n",
       "      <td>2.3T 314马力 L4</td>\n",
       "    </tr>\n",
       "    <tr>\n",
       "      <th>2</th>\n",
       "      <td>11000336</td>\n",
       "      <td>NaN</td>\n",
       "      <td>286370</td>\n",
       "      <td>2017款中东版兰德酷路泽4.0</td>\n",
       "      <td>898000</td>\n",
       "      <td>美国洛杉矶汽车改装有限公司</td>\n",
       "      <td>中大型SUV</td>\n",
       "      <td>1GR</td>\n",
       "    </tr>\n",
       "    <tr>\n",
       "      <th>3</th>\n",
       "      <td>11000095</td>\n",
       "      <td>NaN</td>\n",
       "      <td>313419</td>\n",
       "      <td>2017款 4.0L 低配中东版</td>\n",
       "      <td>565000</td>\n",
       "      <td>日产(进口)</td>\n",
       "      <td>大型SUV</td>\n",
       "      <td>4.0L 269马力 V6</td>\n",
       "    </tr>\n",
       "    <tr>\n",
       "      <th>4</th>\n",
       "      <td>11000095</td>\n",
       "      <td>NaN</td>\n",
       "      <td>284302</td>\n",
       "      <td>2017款 4.0L 低配中东版</td>\n",
       "      <td>565000</td>\n",
       "      <td>日产(进口)</td>\n",
       "      <td>大型SUV</td>\n",
       "      <td>4.0L 269马力 V6</td>\n",
       "    </tr>\n",
       "  </tbody>\n",
       "</table>\n",
       "</div>"
      ],
      "text/plain": [
       "    spec_id  price  item_id                    name official_price  \\\n",
       "0  11000264    NaN   372013  奔驰GLS450 2017款 3.0T汽油版         134.3万   \n",
       "1  11000316    NaN   256992       2017款 2.3T美规自动挡标配         400000   \n",
       "2  11000336    NaN   286370        2017款中东版兰德酷路泽4.0         898000   \n",
       "3  11000095    NaN   313419        2017款 4.0L 低配中东版         565000   \n",
       "4  11000095    NaN   284302        2017款 4.0L 低配中东版         565000   \n",
       "\n",
       "           brand   level         engine  \n",
       "0             奔驰   大型SUV        3.0T 汽油  \n",
       "1         福特(进口)      跑车  2.3T 314马力 L4  \n",
       "2  美国洛杉矶汽车改装有限公司  中大型SUV            1GR  \n",
       "3         日产(进口)   大型SUV  4.0L 269马力 V6  \n",
       "4         日产(进口)   大型SUV  4.0L 269马力 V6  "
      ]
     },
     "execution_count": 4,
     "metadata": {},
     "output_type": "execute_result"
    }
   ],
   "source": [
    "autohome_cars.head()"
   ]
  },
  {
   "cell_type": "code",
   "execution_count": 8,
   "metadata": {
    "scrolled": true
   },
   "outputs": [
    {
     "data": {
      "text/plain": [
       "中大型SUV            1798\n",
       "大型SUV             1036\n",
       "全尺寸SUV             384\n",
       "中大型车               307\n",
       "跑车                 252\n",
       "MPV                251\n",
       "中型SUV              212\n",
       "-                  182\n",
       "大型车                150\n",
       "高端皮卡               120\n",
       "SUV                 75\n",
       "三厢车                 71\n",
       "中大型suv              36\n",
       "中大型SUV              30\n",
       "全尺寸suv              26\n",
       "皮卡                  22\n",
       "小型SUV               17\n",
       "中型车                 15\n",
       "紧凑型SUV              14\n",
       "轿车                   9\n",
       "高级皮卡                 8\n",
       "5085*1984*1796       8\n",
       "软顶敞篷车                7\n",
       "大型mpv                3\n",
       "紧凑型车                 3\n",
       "大中型SUV               2\n",
       "微型车                  2\n",
       "5门5座SVU              1\n",
       "大型皮卡                 1\n",
       "Name: level, dtype: int64"
      ]
     },
     "execution_count": 8,
     "metadata": {},
     "output_type": "execute_result"
    }
   ],
   "source": [
    "autohome_cars['level'].value_counts()"
   ]
  },
  {
   "cell_type": "markdown",
   "metadata": {},
   "source": [
    "# [中国海关总署公开数据](http://www.customs.gov.cn/)"
   ]
  },
  {
   "cell_type": "markdown",
   "metadata": {},
   "source": [
    "## 2014年汽车进口总量"
   ]
  },
  {
   "cell_type": "code",
   "execution_count": 57,
   "metadata": {},
   "outputs": [],
   "source": [
    "import_cars_2014_2017 = {\n",
    "    '2014': {\n",
    "        '总量': 0,\n",
    "        '轿车': 469641,\n",
    "        'SUV': 589017,\n",
    "        '小客车': 344199,\n",
    "        '货车': 9590,\n",
    "        '非公路用自卸车': 107,\n",
    "        '专用汽车': 298,\n",
    "        '30座以上客车': 68,\n",
    "        '10至29座客车': 963,\n",
    "        '装有引擎的汽车底盘': 1455\n",
    "    },\n",
    "    '2015': {\n",
    "        '总量': 0,\n",
    "        '轿车': 352461,\n",
    "        'SUV': 471757,\n",
    "        '小客车': 264332,\n",
    "        '货车': 4883,\n",
    "        '非公路用自卸车': 39,\n",
    "        '专用汽车': 211,\n",
    "        '30座以上客车': 63,\n",
    "        '10至29座客车': 836,\n",
    "        '装有引擎的汽车底盘': 2208\n",
    "    },\n",
    "    '2016': {\n",
    "        '总量': 0,\n",
    "        '轿车': 377373,\n",
    "        'SUV': 465739,\n",
    "        '小客车': 206190,\n",
    "        '货车': 7694,\n",
    "        '非公路用自卸车': 27,\n",
    "        '专用汽车': 179,\n",
    "        '30座以上客车': 14,\n",
    "        '10至29座客车': 723,\n",
    "        '装有引擎的汽车底盘': 1937\n",
    "    },\n",
    "    '2017.6': {\n",
    "        '总量': 0,\n",
    "        '轿车': 216751,\n",
    "        'SUV': 254788,\n",
    "        '小客车': 106276,\n",
    "        '货车': 6257,\n",
    "        '非公路用自卸车': 3,\n",
    "        '专用汽车': 85,\n",
    "        '30座以上客车': 13,\n",
    "        '10至29座客车': 343,\n",
    "        '装有引擎的汽车底盘': 771\n",
    "    },\n",
    "    '2017.9': {\n",
    "        '总量': 0,\n",
    "        '轿车': 339332,\n",
    "        'SUV': 397144,\n",
    "        '小客车': 161399,\n",
    "        '货车': 7952,\n",
    "        '非公路用自卸车': 7,\n",
    "        '专用汽车': 130,\n",
    "        '30座以上客车': 19,\n",
    "        '10至29座客车': 719,\n",
    "        '装有引擎的汽车底盘': 1087\n",
    "    }\n",
    "}"
   ]
  },
  {
   "cell_type": "code",
   "execution_count": 58,
   "metadata": {},
   "outputs": [],
   "source": [
    "import pandas as pd\n",
    "import_cars_2014_2017_df = pd.DataFrame(import_cars_2014_2017)"
   ]
  },
  {
   "cell_type": "code",
   "execution_count": 59,
   "metadata": {},
   "outputs": [
    {
     "data": {
      "text/html": [
       "<div>\n",
       "<style>\n",
       "    .dataframe thead tr:only-child th {\n",
       "        text-align: right;\n",
       "    }\n",
       "\n",
       "    .dataframe thead th {\n",
       "        text-align: left;\n",
       "    }\n",
       "\n",
       "    .dataframe tbody tr th {\n",
       "        vertical-align: top;\n",
       "    }\n",
       "</style>\n",
       "<table border=\"1\" class=\"dataframe\">\n",
       "  <thead>\n",
       "    <tr style=\"text-align: right;\">\n",
       "      <th></th>\n",
       "      <th>2014</th>\n",
       "      <th>2015</th>\n",
       "      <th>2016</th>\n",
       "      <th>2017.6</th>\n",
       "      <th>2017.9</th>\n",
       "    </tr>\n",
       "  </thead>\n",
       "  <tbody>\n",
       "    <tr>\n",
       "      <th>10至29座客车</th>\n",
       "      <td>963</td>\n",
       "      <td>836</td>\n",
       "      <td>723</td>\n",
       "      <td>343</td>\n",
       "      <td>719</td>\n",
       "    </tr>\n",
       "    <tr>\n",
       "      <th>30座以上客车</th>\n",
       "      <td>68</td>\n",
       "      <td>63</td>\n",
       "      <td>14</td>\n",
       "      <td>13</td>\n",
       "      <td>19</td>\n",
       "    </tr>\n",
       "    <tr>\n",
       "      <th>SUV</th>\n",
       "      <td>589017</td>\n",
       "      <td>471757</td>\n",
       "      <td>465739</td>\n",
       "      <td>254788</td>\n",
       "      <td>397144</td>\n",
       "    </tr>\n",
       "    <tr>\n",
       "      <th>专用汽车</th>\n",
       "      <td>298</td>\n",
       "      <td>211</td>\n",
       "      <td>179</td>\n",
       "      <td>85</td>\n",
       "      <td>130</td>\n",
       "    </tr>\n",
       "    <tr>\n",
       "      <th>小客车</th>\n",
       "      <td>344199</td>\n",
       "      <td>264332</td>\n",
       "      <td>206190</td>\n",
       "      <td>106276</td>\n",
       "      <td>161399</td>\n",
       "    </tr>\n",
       "    <tr>\n",
       "      <th>总量</th>\n",
       "      <td>0</td>\n",
       "      <td>0</td>\n",
       "      <td>0</td>\n",
       "      <td>0</td>\n",
       "      <td>0</td>\n",
       "    </tr>\n",
       "    <tr>\n",
       "      <th>装有引擎的汽车底盘</th>\n",
       "      <td>1455</td>\n",
       "      <td>2208</td>\n",
       "      <td>1937</td>\n",
       "      <td>771</td>\n",
       "      <td>1087</td>\n",
       "    </tr>\n",
       "    <tr>\n",
       "      <th>货车</th>\n",
       "      <td>9590</td>\n",
       "      <td>4883</td>\n",
       "      <td>7694</td>\n",
       "      <td>6257</td>\n",
       "      <td>7952</td>\n",
       "    </tr>\n",
       "    <tr>\n",
       "      <th>轿车</th>\n",
       "      <td>469641</td>\n",
       "      <td>352461</td>\n",
       "      <td>377373</td>\n",
       "      <td>216751</td>\n",
       "      <td>339332</td>\n",
       "    </tr>\n",
       "    <tr>\n",
       "      <th>非公路用自卸车</th>\n",
       "      <td>107</td>\n",
       "      <td>39</td>\n",
       "      <td>27</td>\n",
       "      <td>3</td>\n",
       "      <td>7</td>\n",
       "    </tr>\n",
       "  </tbody>\n",
       "</table>\n",
       "</div>"
      ],
      "text/plain": [
       "             2014    2015    2016  2017.6  2017.9\n",
       "10至29座客车      963     836     723     343     719\n",
       "30座以上客车        68      63      14      13      19\n",
       "SUV        589017  471757  465739  254788  397144\n",
       "专用汽车          298     211     179      85     130\n",
       "小客车        344199  264332  206190  106276  161399\n",
       "总量              0       0       0       0       0\n",
       "装有引擎的汽车底盘    1455    2208    1937     771    1087\n",
       "货车           9590    4883    7694    6257    7952\n",
       "轿车         469641  352461  377373  216751  339332\n",
       "非公路用自卸车       107      39      27       3       7"
      ]
     },
     "execution_count": 59,
     "metadata": {},
     "output_type": "execute_result"
    }
   ],
   "source": [
    "import_cars_2014_2017_df"
   ]
  },
  {
   "cell_type": "code",
   "execution_count": 60,
   "metadata": {},
   "outputs": [],
   "source": [
    "import_cars_2014_2017_df = import_cars_2014_2017_df.T"
   ]
  },
  {
   "cell_type": "code",
   "execution_count": 61,
   "metadata": {},
   "outputs": [],
   "source": [
    "import_cars_2014_2017_df['总量'] = import_cars_2014_2017_df.apply(lambda x:x.sum(), axis=1)"
   ]
  },
  {
   "cell_type": "code",
   "execution_count": 62,
   "metadata": {},
   "outputs": [
    {
     "data": {
      "text/html": [
       "<div>\n",
       "<style>\n",
       "    .dataframe thead tr:only-child th {\n",
       "        text-align: right;\n",
       "    }\n",
       "\n",
       "    .dataframe thead th {\n",
       "        text-align: left;\n",
       "    }\n",
       "\n",
       "    .dataframe tbody tr th {\n",
       "        vertical-align: top;\n",
       "    }\n",
       "</style>\n",
       "<table border=\"1\" class=\"dataframe\">\n",
       "  <thead>\n",
       "    <tr style=\"text-align: right;\">\n",
       "      <th></th>\n",
       "      <th>10至29座客车</th>\n",
       "      <th>30座以上客车</th>\n",
       "      <th>SUV</th>\n",
       "      <th>专用汽车</th>\n",
       "      <th>小客车</th>\n",
       "      <th>总量</th>\n",
       "      <th>装有引擎的汽车底盘</th>\n",
       "      <th>货车</th>\n",
       "      <th>轿车</th>\n",
       "      <th>非公路用自卸车</th>\n",
       "    </tr>\n",
       "  </thead>\n",
       "  <tbody>\n",
       "    <tr>\n",
       "      <th>2014</th>\n",
       "      <td>963</td>\n",
       "      <td>68</td>\n",
       "      <td>589017</td>\n",
       "      <td>298</td>\n",
       "      <td>344199</td>\n",
       "      <td>1415338</td>\n",
       "      <td>1455</td>\n",
       "      <td>9590</td>\n",
       "      <td>469641</td>\n",
       "      <td>107</td>\n",
       "    </tr>\n",
       "    <tr>\n",
       "      <th>2015</th>\n",
       "      <td>836</td>\n",
       "      <td>63</td>\n",
       "      <td>471757</td>\n",
       "      <td>211</td>\n",
       "      <td>264332</td>\n",
       "      <td>1096790</td>\n",
       "      <td>2208</td>\n",
       "      <td>4883</td>\n",
       "      <td>352461</td>\n",
       "      <td>39</td>\n",
       "    </tr>\n",
       "    <tr>\n",
       "      <th>2016</th>\n",
       "      <td>723</td>\n",
       "      <td>14</td>\n",
       "      <td>465739</td>\n",
       "      <td>179</td>\n",
       "      <td>206190</td>\n",
       "      <td>1059876</td>\n",
       "      <td>1937</td>\n",
       "      <td>7694</td>\n",
       "      <td>377373</td>\n",
       "      <td>27</td>\n",
       "    </tr>\n",
       "    <tr>\n",
       "      <th>2017.6</th>\n",
       "      <td>343</td>\n",
       "      <td>13</td>\n",
       "      <td>254788</td>\n",
       "      <td>85</td>\n",
       "      <td>106276</td>\n",
       "      <td>585287</td>\n",
       "      <td>771</td>\n",
       "      <td>6257</td>\n",
       "      <td>216751</td>\n",
       "      <td>3</td>\n",
       "    </tr>\n",
       "    <tr>\n",
       "      <th>2017.9</th>\n",
       "      <td>719</td>\n",
       "      <td>19</td>\n",
       "      <td>397144</td>\n",
       "      <td>130</td>\n",
       "      <td>161399</td>\n",
       "      <td>907789</td>\n",
       "      <td>1087</td>\n",
       "      <td>7952</td>\n",
       "      <td>339332</td>\n",
       "      <td>7</td>\n",
       "    </tr>\n",
       "  </tbody>\n",
       "</table>\n",
       "</div>"
      ],
      "text/plain": [
       "        10至29座客车  30座以上客车     SUV  专用汽车     小客车       总量  装有引擎的汽车底盘    货车  \\\n",
       "2014         963       68  589017   298  344199  1415338       1455  9590   \n",
       "2015         836       63  471757   211  264332  1096790       2208  4883   \n",
       "2016         723       14  465739   179  206190  1059876       1937  7694   \n",
       "2017.6       343       13  254788    85  106276   585287        771  6257   \n",
       "2017.9       719       19  397144   130  161399   907789       1087  7952   \n",
       "\n",
       "            轿车  非公路用自卸车  \n",
       "2014    469641      107  \n",
       "2015    352461       39  \n",
       "2016    377373       27  \n",
       "2017.6  216751        3  \n",
       "2017.9  339332        7  "
      ]
     },
     "execution_count": 62,
     "metadata": {},
     "output_type": "execute_result"
    }
   ],
   "source": [
    "import_cars_2014_2017_df"
   ]
  },
  {
   "cell_type": "code",
   "execution_count": 63,
   "metadata": {},
   "outputs": [],
   "source": [
    "import_cars_2014_2017_df['民用车总量'] = import_cars_2014_2017_df['轿车'] + import_cars_2014_2017_df['SUV'] + import_cars_2014_2017_df['小客车']"
   ]
  },
  {
   "cell_type": "code",
   "execution_count": 64,
   "metadata": {},
   "outputs": [
    {
     "data": {
      "text/html": [
       "<div>\n",
       "<style>\n",
       "    .dataframe thead tr:only-child th {\n",
       "        text-align: right;\n",
       "    }\n",
       "\n",
       "    .dataframe thead th {\n",
       "        text-align: left;\n",
       "    }\n",
       "\n",
       "    .dataframe tbody tr th {\n",
       "        vertical-align: top;\n",
       "    }\n",
       "</style>\n",
       "<table border=\"1\" class=\"dataframe\">\n",
       "  <thead>\n",
       "    <tr style=\"text-align: right;\">\n",
       "      <th></th>\n",
       "      <th>10至29座客车</th>\n",
       "      <th>30座以上客车</th>\n",
       "      <th>SUV</th>\n",
       "      <th>专用汽车</th>\n",
       "      <th>小客车</th>\n",
       "      <th>总量</th>\n",
       "      <th>装有引擎的汽车底盘</th>\n",
       "      <th>货车</th>\n",
       "      <th>轿车</th>\n",
       "      <th>非公路用自卸车</th>\n",
       "      <th>民用车总量</th>\n",
       "    </tr>\n",
       "  </thead>\n",
       "  <tbody>\n",
       "    <tr>\n",
       "      <th>2014</th>\n",
       "      <td>963</td>\n",
       "      <td>68</td>\n",
       "      <td>589017</td>\n",
       "      <td>298</td>\n",
       "      <td>344199</td>\n",
       "      <td>1415338</td>\n",
       "      <td>1455</td>\n",
       "      <td>9590</td>\n",
       "      <td>469641</td>\n",
       "      <td>107</td>\n",
       "      <td>1402857</td>\n",
       "    </tr>\n",
       "    <tr>\n",
       "      <th>2015</th>\n",
       "      <td>836</td>\n",
       "      <td>63</td>\n",
       "      <td>471757</td>\n",
       "      <td>211</td>\n",
       "      <td>264332</td>\n",
       "      <td>1096790</td>\n",
       "      <td>2208</td>\n",
       "      <td>4883</td>\n",
       "      <td>352461</td>\n",
       "      <td>39</td>\n",
       "      <td>1088550</td>\n",
       "    </tr>\n",
       "    <tr>\n",
       "      <th>2016</th>\n",
       "      <td>723</td>\n",
       "      <td>14</td>\n",
       "      <td>465739</td>\n",
       "      <td>179</td>\n",
       "      <td>206190</td>\n",
       "      <td>1059876</td>\n",
       "      <td>1937</td>\n",
       "      <td>7694</td>\n",
       "      <td>377373</td>\n",
       "      <td>27</td>\n",
       "      <td>1049302</td>\n",
       "    </tr>\n",
       "    <tr>\n",
       "      <th>2017.6</th>\n",
       "      <td>343</td>\n",
       "      <td>13</td>\n",
       "      <td>254788</td>\n",
       "      <td>85</td>\n",
       "      <td>106276</td>\n",
       "      <td>585287</td>\n",
       "      <td>771</td>\n",
       "      <td>6257</td>\n",
       "      <td>216751</td>\n",
       "      <td>3</td>\n",
       "      <td>577815</td>\n",
       "    </tr>\n",
       "    <tr>\n",
       "      <th>2017.9</th>\n",
       "      <td>719</td>\n",
       "      <td>19</td>\n",
       "      <td>397144</td>\n",
       "      <td>130</td>\n",
       "      <td>161399</td>\n",
       "      <td>907789</td>\n",
       "      <td>1087</td>\n",
       "      <td>7952</td>\n",
       "      <td>339332</td>\n",
       "      <td>7</td>\n",
       "      <td>897875</td>\n",
       "    </tr>\n",
       "  </tbody>\n",
       "</table>\n",
       "</div>"
      ],
      "text/plain": [
       "        10至29座客车  30座以上客车     SUV  专用汽车     小客车       总量  装有引擎的汽车底盘    货车  \\\n",
       "2014         963       68  589017   298  344199  1415338       1455  9590   \n",
       "2015         836       63  471757   211  264332  1096790       2208  4883   \n",
       "2016         723       14  465739   179  206190  1059876       1937  7694   \n",
       "2017.6       343       13  254788    85  106276   585287        771  6257   \n",
       "2017.9       719       19  397144   130  161399   907789       1087  7952   \n",
       "\n",
       "            轿车  非公路用自卸车    民用车总量  \n",
       "2014    469641      107  1402857  \n",
       "2015    352461       39  1088550  \n",
       "2016    377373       27  1049302  \n",
       "2017.6  216751        3   577815  \n",
       "2017.9  339332        7   897875  "
      ]
     },
     "execution_count": 64,
     "metadata": {},
     "output_type": "execute_result"
    }
   ],
   "source": [
    "import_cars_2014_2017_df"
   ]
  },
  {
   "cell_type": "markdown",
   "metadata": {},
   "source": [
    "数据来自中国海关总署,可以看到虽然在2015年和2016年民用车整车进口数量持续下滑, 但是随着2017年1月1日开始实施的关税调整方案和2017年5月11日平行进口车试点范围扩大到9个省市之后, 2017年的汽车进口总量和民用车进口总量预计会实现同比增长."
   ]
  },
  {
   "cell_type": "markdown",
   "metadata": {},
   "source": [
    "# 平行进口车数据\n",
    "[2013年-2016年数据来自万高汽车](http://www.imvango.com/newsDetail.html?id=268)"
   ]
  },
  {
   "cell_type": "code",
   "execution_count": 65,
   "metadata": {},
   "outputs": [],
   "source": [
    "parallel_import_cars_2014_2017 = {\n",
    "    '2014': 109566,\n",
    "    '2015': 114261,\n",
    "    '2016': 132877,\n",
    "    '2017.6': 81649\n",
    "}"
   ]
  },
  {
   "cell_type": "code",
   "execution_count": 66,
   "metadata": {},
   "outputs": [],
   "source": [
    "parallel_import_cars_2014_2017_series = pd.Series(parallel_import_cars_2014_2017)"
   ]
  },
  {
   "cell_type": "code",
   "execution_count": 67,
   "metadata": {},
   "outputs": [
    {
     "data": {
      "text/plain": [
       "2014      109566\n",
       "2015      114261\n",
       "2016      132877\n",
       "2017.6     81649\n",
       "dtype: int64"
      ]
     },
     "execution_count": 67,
     "metadata": {},
     "output_type": "execute_result"
    }
   ],
   "source": [
    "parallel_import_cars_2014_2017_series"
   ]
  },
  {
   "cell_type": "markdown",
   "metadata": {},
   "source": [
    "为了对比数据, 海关总署公布的2017年1至6月的民用车整车进口量如下:"
   ]
  },
  {
   "cell_type": "code",
   "execution_count": 68,
   "metadata": {},
   "outputs": [],
   "source": [
    "import_cars_2017_1_6 = {\n",
    "    '轿车': 216751,\n",
    "    'SUV': 254788,\n",
    "    '小客车': 106276,\n",
    "    '民用车总量': 577815\n",
    "}"
   ]
  },
  {
   "cell_type": "code",
   "execution_count": 69,
   "metadata": {},
   "outputs": [],
   "source": [
    "import_cars_2014_2017_df['平行进口车'] = parallel_import_cars_2014_2017_series"
   ]
  },
  {
   "cell_type": "code",
   "execution_count": 70,
   "metadata": {},
   "outputs": [
    {
     "data": {
      "text/html": [
       "<div>\n",
       "<style>\n",
       "    .dataframe thead tr:only-child th {\n",
       "        text-align: right;\n",
       "    }\n",
       "\n",
       "    .dataframe thead th {\n",
       "        text-align: left;\n",
       "    }\n",
       "\n",
       "    .dataframe tbody tr th {\n",
       "        vertical-align: top;\n",
       "    }\n",
       "</style>\n",
       "<table border=\"1\" class=\"dataframe\">\n",
       "  <thead>\n",
       "    <tr style=\"text-align: right;\">\n",
       "      <th></th>\n",
       "      <th>10至29座客车</th>\n",
       "      <th>30座以上客车</th>\n",
       "      <th>SUV</th>\n",
       "      <th>专用汽车</th>\n",
       "      <th>小客车</th>\n",
       "      <th>总量</th>\n",
       "      <th>装有引擎的汽车底盘</th>\n",
       "      <th>货车</th>\n",
       "      <th>轿车</th>\n",
       "      <th>非公路用自卸车</th>\n",
       "      <th>民用车总量</th>\n",
       "      <th>平行进口车</th>\n",
       "    </tr>\n",
       "  </thead>\n",
       "  <tbody>\n",
       "    <tr>\n",
       "      <th>2014</th>\n",
       "      <td>963</td>\n",
       "      <td>68</td>\n",
       "      <td>589017</td>\n",
       "      <td>298</td>\n",
       "      <td>344199</td>\n",
       "      <td>1415338</td>\n",
       "      <td>1455</td>\n",
       "      <td>9590</td>\n",
       "      <td>469641</td>\n",
       "      <td>107</td>\n",
       "      <td>1402857</td>\n",
       "      <td>109566.0</td>\n",
       "    </tr>\n",
       "    <tr>\n",
       "      <th>2015</th>\n",
       "      <td>836</td>\n",
       "      <td>63</td>\n",
       "      <td>471757</td>\n",
       "      <td>211</td>\n",
       "      <td>264332</td>\n",
       "      <td>1096790</td>\n",
       "      <td>2208</td>\n",
       "      <td>4883</td>\n",
       "      <td>352461</td>\n",
       "      <td>39</td>\n",
       "      <td>1088550</td>\n",
       "      <td>114261.0</td>\n",
       "    </tr>\n",
       "    <tr>\n",
       "      <th>2016</th>\n",
       "      <td>723</td>\n",
       "      <td>14</td>\n",
       "      <td>465739</td>\n",
       "      <td>179</td>\n",
       "      <td>206190</td>\n",
       "      <td>1059876</td>\n",
       "      <td>1937</td>\n",
       "      <td>7694</td>\n",
       "      <td>377373</td>\n",
       "      <td>27</td>\n",
       "      <td>1049302</td>\n",
       "      <td>132877.0</td>\n",
       "    </tr>\n",
       "    <tr>\n",
       "      <th>2017.6</th>\n",
       "      <td>343</td>\n",
       "      <td>13</td>\n",
       "      <td>254788</td>\n",
       "      <td>85</td>\n",
       "      <td>106276</td>\n",
       "      <td>585287</td>\n",
       "      <td>771</td>\n",
       "      <td>6257</td>\n",
       "      <td>216751</td>\n",
       "      <td>3</td>\n",
       "      <td>577815</td>\n",
       "      <td>81649.0</td>\n",
       "    </tr>\n",
       "    <tr>\n",
       "      <th>2017.9</th>\n",
       "      <td>719</td>\n",
       "      <td>19</td>\n",
       "      <td>397144</td>\n",
       "      <td>130</td>\n",
       "      <td>161399</td>\n",
       "      <td>907789</td>\n",
       "      <td>1087</td>\n",
       "      <td>7952</td>\n",
       "      <td>339332</td>\n",
       "      <td>7</td>\n",
       "      <td>897875</td>\n",
       "      <td>NaN</td>\n",
       "    </tr>\n",
       "  </tbody>\n",
       "</table>\n",
       "</div>"
      ],
      "text/plain": [
       "        10至29座客车  30座以上客车     SUV  专用汽车     小客车       总量  装有引擎的汽车底盘    货车  \\\n",
       "2014         963       68  589017   298  344199  1415338       1455  9590   \n",
       "2015         836       63  471757   211  264332  1096790       2208  4883   \n",
       "2016         723       14  465739   179  206190  1059876       1937  7694   \n",
       "2017.6       343       13  254788    85  106276   585287        771  6257   \n",
       "2017.9       719       19  397144   130  161399   907789       1087  7952   \n",
       "\n",
       "            轿车  非公路用自卸车    民用车总量     平行进口车  \n",
       "2014    469641      107  1402857  109566.0  \n",
       "2015    352461       39  1088550  114261.0  \n",
       "2016    377373       27  1049302  132877.0  \n",
       "2017.6  216751        3   577815   81649.0  \n",
       "2017.9  339332        7   897875       NaN  "
      ]
     },
     "execution_count": 70,
     "metadata": {},
     "output_type": "execute_result"
    }
   ],
   "source": [
    "import_cars_2014_2017_df"
   ]
  },
  {
   "cell_type": "code",
   "execution_count": 71,
   "metadata": {},
   "outputs": [],
   "source": [
    "import_cars_2014_2017_df['平行进口车/民用车进口总量比例'] = import_cars_2014_2017_df['平行进口车']/import_cars_2014_2017_df['民用车总量']"
   ]
  },
  {
   "cell_type": "code",
   "execution_count": 72,
   "metadata": {},
   "outputs": [
    {
     "data": {
      "text/html": [
       "<div>\n",
       "<style>\n",
       "    .dataframe thead tr:only-child th {\n",
       "        text-align: right;\n",
       "    }\n",
       "\n",
       "    .dataframe thead th {\n",
       "        text-align: left;\n",
       "    }\n",
       "\n",
       "    .dataframe tbody tr th {\n",
       "        vertical-align: top;\n",
       "    }\n",
       "</style>\n",
       "<table border=\"1\" class=\"dataframe\">\n",
       "  <thead>\n",
       "    <tr style=\"text-align: right;\">\n",
       "      <th></th>\n",
       "      <th>10至29座客车</th>\n",
       "      <th>30座以上客车</th>\n",
       "      <th>SUV</th>\n",
       "      <th>专用汽车</th>\n",
       "      <th>小客车</th>\n",
       "      <th>总量</th>\n",
       "      <th>装有引擎的汽车底盘</th>\n",
       "      <th>货车</th>\n",
       "      <th>轿车</th>\n",
       "      <th>非公路用自卸车</th>\n",
       "      <th>民用车总量</th>\n",
       "      <th>平行进口车</th>\n",
       "      <th>平行进口车/民用车进口总量比例</th>\n",
       "    </tr>\n",
       "  </thead>\n",
       "  <tbody>\n",
       "    <tr>\n",
       "      <th>2014</th>\n",
       "      <td>963</td>\n",
       "      <td>68</td>\n",
       "      <td>589017</td>\n",
       "      <td>298</td>\n",
       "      <td>344199</td>\n",
       "      <td>1415338</td>\n",
       "      <td>1455</td>\n",
       "      <td>9590</td>\n",
       "      <td>469641</td>\n",
       "      <td>107</td>\n",
       "      <td>1402857</td>\n",
       "      <td>109566.0</td>\n",
       "      <td>0.078102</td>\n",
       "    </tr>\n",
       "    <tr>\n",
       "      <th>2015</th>\n",
       "      <td>836</td>\n",
       "      <td>63</td>\n",
       "      <td>471757</td>\n",
       "      <td>211</td>\n",
       "      <td>264332</td>\n",
       "      <td>1096790</td>\n",
       "      <td>2208</td>\n",
       "      <td>4883</td>\n",
       "      <td>352461</td>\n",
       "      <td>39</td>\n",
       "      <td>1088550</td>\n",
       "      <td>114261.0</td>\n",
       "      <td>0.104966</td>\n",
       "    </tr>\n",
       "    <tr>\n",
       "      <th>2016</th>\n",
       "      <td>723</td>\n",
       "      <td>14</td>\n",
       "      <td>465739</td>\n",
       "      <td>179</td>\n",
       "      <td>206190</td>\n",
       "      <td>1059876</td>\n",
       "      <td>1937</td>\n",
       "      <td>7694</td>\n",
       "      <td>377373</td>\n",
       "      <td>27</td>\n",
       "      <td>1049302</td>\n",
       "      <td>132877.0</td>\n",
       "      <td>0.126634</td>\n",
       "    </tr>\n",
       "    <tr>\n",
       "      <th>2017.6</th>\n",
       "      <td>343</td>\n",
       "      <td>13</td>\n",
       "      <td>254788</td>\n",
       "      <td>85</td>\n",
       "      <td>106276</td>\n",
       "      <td>585287</td>\n",
       "      <td>771</td>\n",
       "      <td>6257</td>\n",
       "      <td>216751</td>\n",
       "      <td>3</td>\n",
       "      <td>577815</td>\n",
       "      <td>81649.0</td>\n",
       "      <td>0.141306</td>\n",
       "    </tr>\n",
       "    <tr>\n",
       "      <th>2017.9</th>\n",
       "      <td>719</td>\n",
       "      <td>19</td>\n",
       "      <td>397144</td>\n",
       "      <td>130</td>\n",
       "      <td>161399</td>\n",
       "      <td>907789</td>\n",
       "      <td>1087</td>\n",
       "      <td>7952</td>\n",
       "      <td>339332</td>\n",
       "      <td>7</td>\n",
       "      <td>897875</td>\n",
       "      <td>NaN</td>\n",
       "      <td>NaN</td>\n",
       "    </tr>\n",
       "  </tbody>\n",
       "</table>\n",
       "</div>"
      ],
      "text/plain": [
       "        10至29座客车  30座以上客车     SUV  专用汽车     小客车       总量  装有引擎的汽车底盘    货车  \\\n",
       "2014         963       68  589017   298  344199  1415338       1455  9590   \n",
       "2015         836       63  471757   211  264332  1096790       2208  4883   \n",
       "2016         723       14  465739   179  206190  1059876       1937  7694   \n",
       "2017.6       343       13  254788    85  106276   585287        771  6257   \n",
       "2017.9       719       19  397144   130  161399   907789       1087  7952   \n",
       "\n",
       "            轿车  非公路用自卸车    民用车总量     平行进口车  平行进口车/民用车进口总量比例  \n",
       "2014    469641      107  1402857  109566.0         0.078102  \n",
       "2015    352461       39  1088550  114261.0         0.104966  \n",
       "2016    377373       27  1049302  132877.0         0.126634  \n",
       "2017.6  216751        3   577815   81649.0         0.141306  \n",
       "2017.9  339332        7   897875       NaN              NaN  "
      ]
     },
     "execution_count": 72,
     "metadata": {},
     "output_type": "execute_result"
    }
   ],
   "source": [
    "import_cars_2014_2017_df"
   ]
  },
  {
   "cell_type": "markdown",
   "metadata": {},
   "source": [
    "平行进口车占民用车整车进口比例的数据在持续增加, 说明市场对于平行进口车的接受程度在逐步提升, 并且得益于国家政策的完善和鼓励扶持, 以及双积分政策正式落地, 平行进口车的比例仍会持续增加."
   ]
  },
  {
   "cell_type": "code",
   "execution_count": null,
   "metadata": {},
   "outputs": [],
   "source": []
  },
  {
   "cell_type": "markdown",
   "metadata": {},
   "source": [
    "## [双积分政策](http://www.miit.gov.cn/n1146290/n4388791/c5826378/content.html)\n",
    "对平行进口车是利好政策."
   ]
  },
  {
   "cell_type": "markdown",
   "metadata": {},
   "source": [
    "在工信部, 财政部, 商务部, 海关总署和质量监督检验检疫总局共同发布的\"乘用车企业平均燃料消耗量与新能源汽车积分并行管理办法\"中第二章\"乘用车企业平均染料消耗量积分合算\"中第十二条规定, ```未获境外乘用车生产企业授权的进口乘用车供应企业按照前款的规定管理，并自2019年度起实施企业平均燃料消耗量积分核算；但是，核算年度进口量2000辆以下的，暂不实施积分核算。``` 这意味着绝大多数的平行进口车企业, 不在双积分政策的管制下. 这意味着授权经销商的销售车辆数量可能会受到影响, 而平行进口车成为了性能车, 进口车和豪车目标用户的考虑范围."
   ]
  },
  {
   "cell_type": "code",
   "execution_count": null,
   "metadata": {},
   "outputs": [],
   "source": []
  }
 ],
 "metadata": {
  "kernelspec": {
   "display_name": "Python 3",
   "language": "python",
   "name": "python3"
  },
  "language_info": {
   "codemirror_mode": {
    "name": "ipython",
    "version": 3
   },
   "file_extension": ".py",
   "mimetype": "text/x-python",
   "name": "python",
   "nbconvert_exporter": "python",
   "pygments_lexer": "ipython3",
   "version": "3.6.3"
  }
 },
 "nbformat": 4,
 "nbformat_minor": 2
}
