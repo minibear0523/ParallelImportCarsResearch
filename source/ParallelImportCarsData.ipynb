{
 "cells": [
  {
   "cell_type": "markdown",
   "metadata": {},
   "source": [
    "# 平行进口汽车行业调研报告"
   ]
  },
  {
   "cell_type": "code",
   "execution_count": 30,
   "metadata": {
    "collapsed": true
   },
   "outputs": [],
   "source": [
    "from selenium import webdriver\n",
    "from selenium.webdriver import ActionChains\n",
    "from selenium.webdriver.common.by import By\n",
    "from selenium.webdriver.support.ui import WebDriverWait\n",
    "from selenium.webdriver.support import expected_conditions as EC\n",
    "from selenium.webdriver.common.keys import Keys\n",
    "from lxml import etree\n",
    "import time"
   ]
  },
  {
   "cell_type": "markdown",
   "metadata": {},
   "source": [
    "## 汽车品牌名录"
   ]
  },
  {
   "cell_type": "code",
   "execution_count": 41,
   "metadata": {},
   "outputs": [],
   "source": [
    "brand_url = 'http://www.autohome.com.cn/grade/carhtml/%s.html'\n",
    "brand_xpath = '//dt/div/a/text()'\n",
    "chars = [chr(i) for i in range(65, 91)]"
   ]
  },
  {
   "cell_type": "code",
   "execution_count": 45,
   "metadata": {},
   "outputs": [],
   "source": [
    "brands = []\n",
    "for alphabeta in chars:\n",
    "    url = brand_url % alphabeta\n",
    "    req = requests.get(url)\n",
    "    if req.status_code == 200:\n",
    "        tree = etree.HTML(req.text)\n",
    "        if tree is not  None:\n",
    "            brands = brands + tree.xpath(brand_xpath)\n",
    "    time.sleep(2)"
   ]
  },
  {
   "cell_type": "code",
   "execution_count": 46,
   "metadata": {},
   "outputs": [
    {
     "name": "stdout",
     "output_type": "stream",
     "text": [
      "['奥迪', '阿斯顿・马丁', 'AC Schnitzer', '安凯客车', '阿尔法・罗密欧', 'ALPINA', 'ARCFOX', 'Arash', '艾康尼克', '奔驰', '本田', '宝马', '别克', '比亚迪', '宝骏', '标致', '保时捷', '北汽幻速', '北京', '北汽绅宝', '宝沃', '宾利', '奔腾', '北汽新能源', '北汽制造', '北汽威旺', '巴博斯', '布加迪', '比速汽车', '北汽道达', '长安', '长城', '长安欧尚', '昌河', '成功汽车', '长安跨越', '长安轻型车', 'Caterham', '长江EV', '大众', '东风', '东风风行', 'DS', '东风风神', '东风风光', '东南', '东风小康', '道奇', '东风风度', 'Dacia', 'DMC', '大发', '丰田', '福特', '法拉利', '福田', '菲亚特', '福迪', '福汽启腾', '福田乘用车', 'Faraday Future', 'Fisker', '广汽传祺', '观致', 'GMC', '广汽吉奥', 'GLM', 'Gumpert', '光冈', '哈弗', '海马', '黄海', '红旗', '华颂', '华泰新能源', '哈飞', '华凯', '海格', '恒天', '华泰', '汉腾汽车', '华骐', 'Hennessey', '悍马', '华利', '华普', '霍顿', 'Icona', '吉利汽车', 'Jeep', '江淮', '捷豹', '金杯', '江铃', '江铃集团轻汽', '金龙', '九龙', '金旅', '江铃集团新能源', '凯迪拉克', '克莱斯勒', '开瑞', 'KTM', '凯翼', '科尼赛克', '卡威', '卡尔森', '凯佰赫', '雷克萨斯', '路虎', '铃木', '雷诺', '林肯', '猎豹汽车', '劳斯莱斯', '兰博基尼', '陆风', '力帆汽车', '路特斯', '莲花汽车', '理念', 'LeSEE', '蓝旗亚', '朗世', '领克', '领志', '马自达', '名爵', '玛莎拉蒂', 'MINI', '迈凯伦', '摩根', '迈巴赫', '纳智捷', '南京金龙', 'nanoFLOWCELL', 'NEVS', 'Noble', '讴歌', '欧朗', '欧宝', '帕加尼', 'Polestar', '佩奇奥', '起亚', '奇瑞', '启辰', '奇点汽车', '前途', '日产', '荣威', '如虎', 'Rezvani', 'Rimac', 'Rinspeed', '瑞麒', '三菱', '斯柯达', '上汽大通', '斯巴鲁', '赛麟', '双龙', 'smart', '思铭', 'SWM斯威汽车', '世爵', 'Scion', 'SPIRRA', 'SSC', '萨博', '上海', '双环', '特斯拉', '腾势', '泰克鲁斯・腾风', 'VLF Automotive', '沃尔沃', '五菱汽车', 'WEY', '五十铃', '威兹曼', '潍柴英致', 'W Motors', '威麟', '威马汽车', '蔚来', '沃克斯豪尔', '雪佛兰', '现代', '雪铁龙', '西雅特', '小鹏汽车', '英菲尼迪', '一汽', '依维柯', '野马汽车', '驭胜', '裕路', '永源', '云度', '游侠', '众泰', '中华', '中兴', '知豆', '之诺', 'Zenvo', '正道汽车']\n"
     ]
    }
   ],
   "source": [
    "print(brands)"
   ]
  },
  {
   "cell_type": "markdown",
   "metadata": {},
   "source": [
    "根据汽车之家的品牌选车, 目前中国市场在售品牌共有208个."
   ]
  },
  {
   "cell_type": "markdown",
   "metadata": {},
   "source": [
    "## 车金宝平行进口车名录"
   ]
  },
  {
   "cell_type": "code",
   "execution_count": 1,
   "metadata": {},
   "outputs": [],
   "source": [
    "import pandas as pd"
   ]
  },
  {
   "cell_type": "code",
   "execution_count": 2,
   "metadata": {},
   "outputs": [],
   "source": [
    "cars = pd.read_csv('chejinbao_cars.csv')"
   ]
  },
  {
   "cell_type": "code",
   "execution_count": 3,
   "metadata": {},
   "outputs": [
    {
     "data": {
      "text/html": [
       "<div>\n",
       "<style>\n",
       "    .dataframe thead tr:only-child th {\n",
       "        text-align: right;\n",
       "    }\n",
       "\n",
       "    .dataframe thead th {\n",
       "        text-align: left;\n",
       "    }\n",
       "\n",
       "    .dataframe tbody tr th {\n",
       "        vertical-align: top;\n",
       "    }\n",
       "</style>\n",
       "<table border=\"1\" class=\"dataframe\">\n",
       "  <thead>\n",
       "    <tr style=\"text-align: right;\">\n",
       "      <th></th>\n",
       "      <th>name</th>\n",
       "      <th>displacement</th>\n",
       "      <th>price</th>\n",
       "      <th>sale_type</th>\n",
       "      <th>version</th>\n",
       "      <th>fuel_type</th>\n",
       "      <th>model</th>\n",
       "      <th>chejinbao_id</th>\n",
       "    </tr>\n",
       "  </thead>\n",
       "  <tbody>\n",
       "    <tr>\n",
       "      <th>0</th>\n",
       "      <td>奥迪</td>\n",
       "      <td>3.0L</td>\n",
       "      <td>67.5</td>\n",
       "      <td>现车</td>\n",
       "      <td>美规</td>\n",
       "      <td>汽油</td>\n",
       "      <td>SUV</td>\n",
       "      <td>154</td>\n",
       "    </tr>\n",
       "    <tr>\n",
       "      <th>1</th>\n",
       "      <td>宾利飞驰</td>\n",
       "      <td>4.0L</td>\n",
       "      <td>260.0</td>\n",
       "      <td>现车</td>\n",
       "      <td>美规</td>\n",
       "      <td>汽油</td>\n",
       "      <td>轿车</td>\n",
       "      <td>143</td>\n",
       "    </tr>\n",
       "    <tr>\n",
       "      <th>2</th>\n",
       "      <td>F-PACE 2.0T都市尊享版</td>\n",
       "      <td>2.0L</td>\n",
       "      <td>54.8</td>\n",
       "      <td>期车</td>\n",
       "      <td>NaN</td>\n",
       "      <td>汽油</td>\n",
       "      <td>SUV</td>\n",
       "      <td>158</td>\n",
       "    </tr>\n",
       "    <tr>\n",
       "      <th>3</th>\n",
       "      <td>大切诺基</td>\n",
       "      <td>3.0L</td>\n",
       "      <td>57.99</td>\n",
       "      <td>现车</td>\n",
       "      <td>美规</td>\n",
       "      <td>汽油</td>\n",
       "      <td>SUV</td>\n",
       "      <td>139</td>\n",
       "    </tr>\n",
       "    <tr>\n",
       "      <th>4</th>\n",
       "      <td>加版XC90</td>\n",
       "      <td>2.0L</td>\n",
       "      <td>63.5</td>\n",
       "      <td>现车</td>\n",
       "      <td>加版</td>\n",
       "      <td>汽油</td>\n",
       "      <td>SUV</td>\n",
       "      <td>202</td>\n",
       "    </tr>\n",
       "  </tbody>\n",
       "</table>\n",
       "</div>"
      ],
      "text/plain": [
       "               name displacement  price sale_type version fuel_type model  \\\n",
       "0                奥迪         3.0L   67.5        现车      美规        汽油   SUV   \n",
       "1              宾利飞驰         4.0L  260.0        现车      美规        汽油    轿车   \n",
       "2  F-PACE 2.0T都市尊享版         2.0L   54.8        期车     NaN        汽油   SUV   \n",
       "3              大切诺基         3.0L  57.99        现车      美规        汽油   SUV   \n",
       "4            加版XC90         2.0L   63.5        现车      加版        汽油   SUV   \n",
       "\n",
       "   chejinbao_id  \n",
       "0           154  \n",
       "1           143  \n",
       "2           158  \n",
       "3           139  \n",
       "4           202  "
      ]
     },
     "execution_count": 3,
     "metadata": {},
     "output_type": "execute_result"
    }
   ],
   "source": [
    "cars.head()"
   ]
  },
  {
   "cell_type": "code",
   "execution_count": 4,
   "metadata": {},
   "outputs": [
    {
     "data": {
      "text/plain": [
       "SUV    136\n",
       "跑车      18\n",
       "MPV     11\n",
       "轿车       8\n",
       "皮卡       6\n",
       "房车       1\n",
       "Name: model, dtype: int64"
      ]
     },
     "execution_count": 4,
     "metadata": {},
     "output_type": "execute_result"
    }
   ],
   "source": [
    "cars['model'].value_counts()"
   ]
  },
  {
   "cell_type": "markdown",
   "metadata": {},
   "source": [
    "车金宝上的销售主要以SUV为主, 比例高达74.7%."
   ]
  },
  {
   "cell_type": "code",
   "execution_count": 5,
   "metadata": {},
   "outputs": [
    {
     "data": {
      "text/plain": [
       "汽油    154\n",
       "柴油      3\n",
       "电力      2\n",
       "Name: fuel_type, dtype: int64"
      ]
     },
     "execution_count": 5,
     "metadata": {},
     "output_type": "execute_result"
    }
   ],
   "source": [
    "cars['fuel_type'].value_counts()"
   ]
  },
  {
   "cell_type": "markdown",
   "metadata": {},
   "source": [
    "受限于排放标准和行驶标准的不同, 车金宝上的平行进口车仍然以汽油车为主, 柴油和新能源汽车比例很小."
   ]
  },
  {
   "cell_type": "code",
   "execution_count": 6,
   "metadata": {
    "scrolled": true
   },
   "outputs": [
    {
     "data": {
      "text/plain": [
       "3.0L     56\n",
       "2.7L     28\n",
       "4.0L     25\n",
       "2.0L     21\n",
       "3.5L     13\n",
       "5.7L      7\n",
       "3.6L      7\n",
       "2.3L      7\n",
       "6.2L      3\n",
       "1.3L      2\n",
       "5.0L      2\n",
       "0.0L      2\n",
       "5.3L      2\n",
       "15.0L     1\n",
       "1.7L      1\n",
       "2.8L      1\n",
       "5.6L      1\n",
       "6.0L      1\n",
       "4.6L      1\n",
       "6.6L      1\n",
       "Name: displacement, dtype: int64"
      ]
     },
     "execution_count": 6,
     "metadata": {},
     "output_type": "execute_result"
    }
   ],
   "source": [
    "cars['displacement'].value_counts()"
   ]
  },
  {
   "cell_type": "code",
   "execution_count": 9,
   "metadata": {
    "scrolled": true
   },
   "outputs": [
    {
     "ename": "AttributeError",
     "evalue": "'float' object has no attribute 'replace'",
     "output_type": "error",
     "traceback": [
      "\u001b[0;31m---------------------------------------------------------------------------\u001b[0m",
      "\u001b[0;31mAttributeError\u001b[0m                            Traceback (most recent call last)",
      "\u001b[0;32m<ipython-input-9-bf4a97602777>\u001b[0m in \u001b[0;36m<module>\u001b[0;34m()\u001b[0m\n\u001b[1;32m      1\u001b[0m \u001b[0;31m# 将displacement直接清洗为float类型,便于比较\u001b[0m\u001b[0;34m\u001b[0m\u001b[0;34m\u001b[0m\u001b[0m\n\u001b[0;32m----> 2\u001b[0;31m \u001b[0mcars\u001b[0m\u001b[0;34m[\u001b[0m\u001b[0;34m'displacement'\u001b[0m\u001b[0;34m]\u001b[0m \u001b[0;34m=\u001b[0m \u001b[0mcars\u001b[0m\u001b[0;34m[\u001b[0m\u001b[0;34m'displacement'\u001b[0m\u001b[0;34m]\u001b[0m\u001b[0;34m.\u001b[0m\u001b[0mapply\u001b[0m\u001b[0;34m(\u001b[0m\u001b[0;32mlambda\u001b[0m \u001b[0mx\u001b[0m\u001b[0;34m:\u001b[0m \u001b[0mfloat\u001b[0m\u001b[0;34m(\u001b[0m\u001b[0mx\u001b[0m\u001b[0;34m.\u001b[0m\u001b[0mreplace\u001b[0m\u001b[0;34m(\u001b[0m\u001b[0;34m'L'\u001b[0m\u001b[0;34m,\u001b[0m \u001b[0;34m''\u001b[0m\u001b[0;34m)\u001b[0m\u001b[0;34m)\u001b[0m\u001b[0;34m)\u001b[0m\u001b[0;34m\u001b[0m\u001b[0m\n\u001b[0m\u001b[1;32m      3\u001b[0m \u001b[0mcars\u001b[0m\u001b[0;34m[\u001b[0m\u001b[0;34m'displacement'\u001b[0m\u001b[0;34m]\u001b[0m\u001b[0;34m.\u001b[0m\u001b[0mvalue_counts\u001b[0m\u001b[0;34m(\u001b[0m\u001b[0;34m)\u001b[0m\u001b[0;34m\u001b[0m\u001b[0m\n",
      "\u001b[0;32m/usr/local/lib/python3.6/site-packages/pandas/core/series.py\u001b[0m in \u001b[0;36mapply\u001b[0;34m(self, func, convert_dtype, args, **kwds)\u001b[0m\n\u001b[1;32m   2353\u001b[0m             \u001b[0;32melse\u001b[0m\u001b[0;34m:\u001b[0m\u001b[0;34m\u001b[0m\u001b[0m\n\u001b[1;32m   2354\u001b[0m                 \u001b[0mvalues\u001b[0m \u001b[0;34m=\u001b[0m \u001b[0mself\u001b[0m\u001b[0;34m.\u001b[0m\u001b[0masobject\u001b[0m\u001b[0;34m\u001b[0m\u001b[0m\n\u001b[0;32m-> 2355\u001b[0;31m                 \u001b[0mmapped\u001b[0m \u001b[0;34m=\u001b[0m \u001b[0mlib\u001b[0m\u001b[0;34m.\u001b[0m\u001b[0mmap_infer\u001b[0m\u001b[0;34m(\u001b[0m\u001b[0mvalues\u001b[0m\u001b[0;34m,\u001b[0m \u001b[0mf\u001b[0m\u001b[0;34m,\u001b[0m \u001b[0mconvert\u001b[0m\u001b[0;34m=\u001b[0m\u001b[0mconvert_dtype\u001b[0m\u001b[0;34m)\u001b[0m\u001b[0;34m\u001b[0m\u001b[0m\n\u001b[0m\u001b[1;32m   2356\u001b[0m \u001b[0;34m\u001b[0m\u001b[0m\n\u001b[1;32m   2357\u001b[0m         \u001b[0;32mif\u001b[0m \u001b[0mlen\u001b[0m\u001b[0;34m(\u001b[0m\u001b[0mmapped\u001b[0m\u001b[0;34m)\u001b[0m \u001b[0;32mand\u001b[0m \u001b[0misinstance\u001b[0m\u001b[0;34m(\u001b[0m\u001b[0mmapped\u001b[0m\u001b[0;34m[\u001b[0m\u001b[0;36m0\u001b[0m\u001b[0;34m]\u001b[0m\u001b[0;34m,\u001b[0m \u001b[0mSeries\u001b[0m\u001b[0;34m)\u001b[0m\u001b[0;34m:\u001b[0m\u001b[0;34m\u001b[0m\u001b[0m\n",
      "\u001b[0;32mpandas/_libs/src/inference.pyx\u001b[0m in \u001b[0;36mpandas._libs.lib.map_infer (pandas/_libs/lib.c:66645)\u001b[0;34m()\u001b[0m\n",
      "\u001b[0;32m<ipython-input-9-bf4a97602777>\u001b[0m in \u001b[0;36m<lambda>\u001b[0;34m(x)\u001b[0m\n\u001b[1;32m      1\u001b[0m \u001b[0;31m# 将displacement直接清洗为float类型,便于比较\u001b[0m\u001b[0;34m\u001b[0m\u001b[0;34m\u001b[0m\u001b[0m\n\u001b[0;32m----> 2\u001b[0;31m \u001b[0mcars\u001b[0m\u001b[0;34m[\u001b[0m\u001b[0;34m'displacement'\u001b[0m\u001b[0;34m]\u001b[0m \u001b[0;34m=\u001b[0m \u001b[0mcars\u001b[0m\u001b[0;34m[\u001b[0m\u001b[0;34m'displacement'\u001b[0m\u001b[0;34m]\u001b[0m\u001b[0;34m.\u001b[0m\u001b[0mapply\u001b[0m\u001b[0;34m(\u001b[0m\u001b[0;32mlambda\u001b[0m \u001b[0mx\u001b[0m\u001b[0;34m:\u001b[0m \u001b[0mfloat\u001b[0m\u001b[0;34m(\u001b[0m\u001b[0mx\u001b[0m\u001b[0;34m.\u001b[0m\u001b[0mreplace\u001b[0m\u001b[0;34m(\u001b[0m\u001b[0;34m'L'\u001b[0m\u001b[0;34m,\u001b[0m \u001b[0;34m''\u001b[0m\u001b[0;34m)\u001b[0m\u001b[0;34m)\u001b[0m\u001b[0;34m)\u001b[0m\u001b[0;34m\u001b[0m\u001b[0m\n\u001b[0m\u001b[1;32m      3\u001b[0m \u001b[0mcars\u001b[0m\u001b[0;34m[\u001b[0m\u001b[0;34m'displacement'\u001b[0m\u001b[0;34m]\u001b[0m\u001b[0;34m.\u001b[0m\u001b[0mvalue_counts\u001b[0m\u001b[0;34m(\u001b[0m\u001b[0;34m)\u001b[0m\u001b[0;34m\u001b[0m\u001b[0m\n",
      "\u001b[0;31mAttributeError\u001b[0m: 'float' object has no attribute 'replace'"
     ]
    }
   ],
   "source": [
    "# 将displacement直接清洗为float类型,便于比较\n",
    "cars['displacement'] = cars['displacement'].apply(lambda x: float(x.replace('L', '')))"
   ]
  },
  {
   "cell_type": "code",
   "execution_count": 10,
   "metadata": {
    "scrolled": true
   },
   "outputs": [
    {
     "data": {
      "text/plain": [
       "3.0     56\n",
       "2.7     28\n",
       "4.0     25\n",
       "2.0     21\n",
       "3.5     13\n",
       "5.7      7\n",
       "3.6      7\n",
       "2.3      7\n",
       "6.2      3\n",
       "5.0      2\n",
       "0.0      2\n",
       "1.3      2\n",
       "5.3      2\n",
       "6.0      1\n",
       "1.7      1\n",
       "15.0     1\n",
       "4.6      1\n",
       "5.6      1\n",
       "6.6      1\n",
       "2.8      1\n",
       "Name: displacement, dtype: int64"
      ]
     },
     "execution_count": 10,
     "metadata": {},
     "output_type": "execute_result"
    }
   ],
   "source": [
    "cars['displacement'].value_counts()"
   ]
  },
  {
   "cell_type": "code",
   "execution_count": 13,
   "metadata": {},
   "outputs": [
    {
     "data": {
      "text/plain": [
       "name            62\n",
       "displacement    62\n",
       "price           62\n",
       "sale_type       62\n",
       "version         57\n",
       "fuel_type       62\n",
       "model           60\n",
       "chejinbao_id    62\n",
       "dtype: int64"
      ]
     },
     "execution_count": 13,
     "metadata": {},
     "output_type": "execute_result"
    }
   ],
   "source": [
    "# 按照进口车关税分类, 区分开3.0L以上和以下的数量\n",
    "cars[cars['displacement']<3.0].count()"
   ]
  },
  {
   "cell_type": "markdown",
   "metadata": {},
   "source": [
    "排量在3.0L以下的平行进口车有62辆, 占比只有34%."
   ]
  },
  {
   "cell_type": "code",
   "execution_count": 14,
   "metadata": {},
   "outputs": [
    {
     "data": {
      "text/plain": [
       "现车    148\n",
       "期车     34\n",
       "Name: sale_type, dtype: int64"
      ]
     },
     "execution_count": 14,
     "metadata": {},
     "output_type": "execute_result"
    }
   ],
   "source": [
    "cars['sale_type'].value_counts()"
   ]
  },
  {
   "cell_type": "markdown",
   "metadata": {},
   "source": [
    "车金宝上的平行进口车是现车的数量为148, 占比高达81.3%"
   ]
  },
  {
   "cell_type": "code",
   "execution_count": 15,
   "metadata": {},
   "outputs": [
    {
     "data": {
      "text/plain": [
       "中东    65\n",
       "美规    41\n",
       "欧规    35\n",
       "加版    29\n",
       "墨版     2\n",
       "Name: version, dtype: int64"
      ]
     },
     "execution_count": 15,
     "metadata": {},
     "output_type": "execute_result"
    }
   ],
   "source": [
    "cars['version'].value_counts()"
   ]
  },
  {
   "cell_type": "markdown",
   "metadata": {},
   "source": [
    "可以看到, 中东版和美规的数量高达106个, 占比达到了58.2%. 而这两个地区的车辆价格相对较低. 价格成为了主要市场的主要驱动力."
   ]
  },
  {
   "cell_type": "markdown",
   "metadata": {},
   "source": [
    "## 汽车之家车商城平行进口车数据"
   ]
  },
  {
   "cell_type": "code",
   "execution_count": 3,
   "metadata": {},
   "outputs": [],
   "source": [
    "autohome_cars = pd.read_csv('autohome_cars.csv')"
   ]
  },
  {
   "cell_type": "code",
   "execution_count": 4,
   "metadata": {},
   "outputs": [
    {
     "data": {
      "text/html": [
       "<div>\n",
       "<style>\n",
       "    .dataframe thead tr:only-child th {\n",
       "        text-align: right;\n",
       "    }\n",
       "\n",
       "    .dataframe thead th {\n",
       "        text-align: left;\n",
       "    }\n",
       "\n",
       "    .dataframe tbody tr th {\n",
       "        vertical-align: top;\n",
       "    }\n",
       "</style>\n",
       "<table border=\"1\" class=\"dataframe\">\n",
       "  <thead>\n",
       "    <tr style=\"text-align: right;\">\n",
       "      <th></th>\n",
       "      <th>spec_id</th>\n",
       "      <th>price</th>\n",
       "      <th>item_id</th>\n",
       "      <th>name</th>\n",
       "      <th>official_price</th>\n",
       "      <th>brand</th>\n",
       "      <th>level</th>\n",
       "      <th>engine</th>\n",
       "    </tr>\n",
       "  </thead>\n",
       "  <tbody>\n",
       "    <tr>\n",
       "      <th>0</th>\n",
       "      <td>11000264</td>\n",
       "      <td>NaN</td>\n",
       "      <td>372013</td>\n",
       "      <td>奔驰GLS450 2017款 3.0T汽油版</td>\n",
       "      <td>134.3万</td>\n",
       "      <td>奔驰</td>\n",
       "      <td>大型SUV</td>\n",
       "      <td>3.0T 汽油</td>\n",
       "    </tr>\n",
       "    <tr>\n",
       "      <th>1</th>\n",
       "      <td>11000316</td>\n",
       "      <td>NaN</td>\n",
       "      <td>256992</td>\n",
       "      <td>2017款 2.3T美规自动挡标配</td>\n",
       "      <td>400000</td>\n",
       "      <td>福特(进口)</td>\n",
       "      <td>跑车</td>\n",
       "      <td>2.3T 314马力 L4</td>\n",
       "    </tr>\n",
       "    <tr>\n",
       "      <th>2</th>\n",
       "      <td>11000336</td>\n",
       "      <td>NaN</td>\n",
       "      <td>286370</td>\n",
       "      <td>2017款中东版兰德酷路泽4.0</td>\n",
       "      <td>898000</td>\n",
       "      <td>美国洛杉矶汽车改装有限公司</td>\n",
       "      <td>中大型SUV</td>\n",
       "      <td>1GR</td>\n",
       "    </tr>\n",
       "    <tr>\n",
       "      <th>3</th>\n",
       "      <td>11000095</td>\n",
       "      <td>NaN</td>\n",
       "      <td>313419</td>\n",
       "      <td>2017款 4.0L 低配中东版</td>\n",
       "      <td>565000</td>\n",
       "      <td>日产(进口)</td>\n",
       "      <td>大型SUV</td>\n",
       "      <td>4.0L 269马力 V6</td>\n",
       "    </tr>\n",
       "    <tr>\n",
       "      <th>4</th>\n",
       "      <td>11000095</td>\n",
       "      <td>NaN</td>\n",
       "      <td>284302</td>\n",
       "      <td>2017款 4.0L 低配中东版</td>\n",
       "      <td>565000</td>\n",
       "      <td>日产(进口)</td>\n",
       "      <td>大型SUV</td>\n",
       "      <td>4.0L 269马力 V6</td>\n",
       "    </tr>\n",
       "  </tbody>\n",
       "</table>\n",
       "</div>"
      ],
      "text/plain": [
       "    spec_id  price  item_id                    name official_price  \\\n",
       "0  11000264    NaN   372013  奔驰GLS450 2017款 3.0T汽油版         134.3万   \n",
       "1  11000316    NaN   256992       2017款 2.3T美规自动挡标配         400000   \n",
       "2  11000336    NaN   286370        2017款中东版兰德酷路泽4.0         898000   \n",
       "3  11000095    NaN   313419        2017款 4.0L 低配中东版         565000   \n",
       "4  11000095    NaN   284302        2017款 4.0L 低配中东版         565000   \n",
       "\n",
       "           brand   level         engine  \n",
       "0             奔驰   大型SUV        3.0T 汽油  \n",
       "1         福特(进口)      跑车  2.3T 314马力 L4  \n",
       "2  美国洛杉矶汽车改装有限公司  中大型SUV            1GR  \n",
       "3         日产(进口)   大型SUV  4.0L 269马力 V6  \n",
       "4         日产(进口)   大型SUV  4.0L 269马力 V6  "
      ]
     },
     "execution_count": 4,
     "metadata": {},
     "output_type": "execute_result"
    }
   ],
   "source": [
    "autohome_cars.head()"
   ]
  },
  {
   "cell_type": "code",
   "execution_count": 8,
   "metadata": {},
   "outputs": [
    {
     "data": {
      "text/plain": [
       "中大型SUV            1798\n",
       "大型SUV             1036\n",
       "全尺寸SUV             384\n",
       "中大型车               307\n",
       "跑车                 252\n",
       "MPV                251\n",
       "中型SUV              212\n",
       "-                  182\n",
       "大型车                150\n",
       "高端皮卡               120\n",
       "SUV                 75\n",
       "三厢车                 71\n",
       "中大型suv              36\n",
       "中大型SUV              30\n",
       "全尺寸suv              26\n",
       "皮卡                  22\n",
       "小型SUV               17\n",
       "中型车                 15\n",
       "紧凑型SUV              14\n",
       "轿车                   9\n",
       "高级皮卡                 8\n",
       "5085*1984*1796       8\n",
       "软顶敞篷车                7\n",
       "大型mpv                3\n",
       "紧凑型车                 3\n",
       "大中型SUV               2\n",
       "微型车                  2\n",
       "5门5座SVU              1\n",
       "大型皮卡                 1\n",
       "Name: level, dtype: int64"
      ]
     },
     "execution_count": 8,
     "metadata": {},
     "output_type": "execute_result"
    }
   ],
   "source": [
    "autohome_cars['level'].value_counts()"
   ]
  },
  {
   "cell_type": "code",
   "execution_count": null,
   "metadata": {},
   "outputs": [],
   "source": []
  }
 ],
 "metadata": {
  "kernelspec": {
   "display_name": "Python 3",
   "language": "python",
   "name": "python3"
  },
  "language_info": {
   "codemirror_mode": {
    "name": "ipython",
    "version": 3
   },
   "file_extension": ".py",
   "mimetype": "text/x-python",
   "name": "python",
   "nbconvert_exporter": "python",
   "pygments_lexer": "ipython3",
   "version": "3.6.3"
  }
 },
 "nbformat": 4,
 "nbformat_minor": 2
}
