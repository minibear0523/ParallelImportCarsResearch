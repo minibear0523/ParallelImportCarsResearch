{
 "cells": [
  {
   "cell_type": "markdown",
   "metadata": {},
   "source": [
    "# 平行进口汽车行业调研报告"
   ]
  },
  {
   "cell_type": "code",
   "execution_count": 30,
   "metadata": {
    "collapsed": true
   },
   "outputs": [],
   "source": [
    "from selenium import webdriver\n",
    "from selenium.webdriver import ActionChains\n",
    "from selenium.webdriver.common.by import By\n",
    "from selenium.webdriver.support.ui import WebDriverWait\n",
    "from selenium.webdriver.support import expected_conditions as EC\n",
    "from selenium.webdriver.common.keys import Keys\n",
    "from lxml import etree\n",
    "import time"
   ]
  },
  {
   "cell_type": "markdown",
   "metadata": {},
   "source": [
    "## 汽车品牌名录"
   ]
  },
  {
   "cell_type": "code",
   "execution_count": 41,
   "metadata": {},
   "outputs": [],
   "source": [
    "brand_url = 'http://www.autohome.com.cn/grade/carhtml/%s.html'\n",
    "brand_xpath = '//dt/div/a/text()'\n",
    "chars = [chr(i) for i in range(65, 91)]"
   ]
  },
  {
   "cell_type": "code",
   "execution_count": 45,
   "metadata": {},
   "outputs": [],
   "source": [
    "brands = []\n",
    "for alphabeta in chars:\n",
    "    url = brand_url % alphabeta\n",
    "    req = requests.get(url)\n",
    "    if req.status_code == 200:\n",
    "        tree = etree.HTML(req.text)\n",
    "        if tree is not  None:\n",
    "            brands = brands + tree.xpath(brand_xpath)\n",
    "    time.sleep(2)"
   ]
  },
  {
   "cell_type": "code",
   "execution_count": 46,
   "metadata": {},
   "outputs": [
    {
     "name": "stdout",
     "output_type": "stream",
     "text": [
      "['奥迪', '阿斯顿・马丁', 'AC Schnitzer', '安凯客车', '阿尔法・罗密欧', 'ALPINA', 'ARCFOX', 'Arash', '艾康尼克', '奔驰', '本田', '宝马', '别克', '比亚迪', '宝骏', '标致', '保时捷', '北汽幻速', '北京', '北汽绅宝', '宝沃', '宾利', '奔腾', '北汽新能源', '北汽制造', '北汽威旺', '巴博斯', '布加迪', '比速汽车', '北汽道达', '长安', '长城', '长安欧尚', '昌河', '成功汽车', '长安跨越', '长安轻型车', 'Caterham', '长江EV', '大众', '东风', '东风风行', 'DS', '东风风神', '东风风光', '东南', '东风小康', '道奇', '东风风度', 'Dacia', 'DMC', '大发', '丰田', '福特', '法拉利', '福田', '菲亚特', '福迪', '福汽启腾', '福田乘用车', 'Faraday Future', 'Fisker', '广汽传祺', '观致', 'GMC', '广汽吉奥', 'GLM', 'Gumpert', '光冈', '哈弗', '海马', '黄海', '红旗', '华颂', '华泰新能源', '哈飞', '华凯', '海格', '恒天', '华泰', '汉腾汽车', '华骐', 'Hennessey', '悍马', '华利', '华普', '霍顿', 'Icona', '吉利汽车', 'Jeep', '江淮', '捷豹', '金杯', '江铃', '江铃集团轻汽', '金龙', '九龙', '金旅', '江铃集团新能源', '凯迪拉克', '克莱斯勒', '开瑞', 'KTM', '凯翼', '科尼赛克', '卡威', '卡尔森', '凯佰赫', '雷克萨斯', '路虎', '铃木', '雷诺', '林肯', '猎豹汽车', '劳斯莱斯', '兰博基尼', '陆风', '力帆汽车', '路特斯', '莲花汽车', '理念', 'LeSEE', '蓝旗亚', '朗世', '领克', '领志', '马自达', '名爵', '玛莎拉蒂', 'MINI', '迈凯伦', '摩根', '迈巴赫', '纳智捷', '南京金龙', 'nanoFLOWCELL', 'NEVS', 'Noble', '讴歌', '欧朗', '欧宝', '帕加尼', 'Polestar', '佩奇奥', '起亚', '奇瑞', '启辰', '奇点汽车', '前途', '日产', '荣威', '如虎', 'Rezvani', 'Rimac', 'Rinspeed', '瑞麒', '三菱', '斯柯达', '上汽大通', '斯巴鲁', '赛麟', '双龙', 'smart', '思铭', 'SWM斯威汽车', '世爵', 'Scion', 'SPIRRA', 'SSC', '萨博', '上海', '双环', '特斯拉', '腾势', '泰克鲁斯・腾风', 'VLF Automotive', '沃尔沃', '五菱汽车', 'WEY', '五十铃', '威兹曼', '潍柴英致', 'W Motors', '威麟', '威马汽车', '蔚来', '沃克斯豪尔', '雪佛兰', '现代', '雪铁龙', '西雅特', '小鹏汽车', '英菲尼迪', '一汽', '依维柯', '野马汽车', '驭胜', '裕路', '永源', '云度', '游侠', '众泰', '中华', '中兴', '知豆', '之诺', 'Zenvo', '正道汽车']\n"
     ]
    }
   ],
   "source": [
    "print(brands)"
   ]
  },
  {
   "cell_type": "markdown",
   "metadata": {},
   "source": [
    "根据汽车之家的品牌选车, 目前中国市场在售品牌共有208个."
   ]
  },
  {
   "cell_type": "markdown",
   "metadata": {},
   "source": [
    "## 车金宝平行进口车名录"
   ]
  },
  {
   "cell_type": "code",
   "execution_count": null,
   "metadata": {
    "collapsed": true
   },
   "outputs": [],
   "source": []
  }
 ],
 "metadata": {
  "kernelspec": {
   "display_name": "Python 3",
   "language": "python",
   "name": "python3"
  },
  "language_info": {
   "codemirror_mode": {
    "name": "ipython",
    "version": 3
   },
   "file_extension": ".py",
   "mimetype": "text/x-python",
   "name": "python",
   "nbconvert_exporter": "python",
   "pygments_lexer": "ipython3",
   "version": "3.6.3"
  }
 },
 "nbformat": 4,
 "nbformat_minor": 2
}
