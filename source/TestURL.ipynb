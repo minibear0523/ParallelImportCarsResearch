{
 "cells": [
  {
   "cell_type": "code",
   "execution_count": 5,
   "metadata": {},
   "outputs": [
    {
     "name": "stdout",
     "output_type": "stream",
     "text": [
      "200\n"
     ]
    }
   ],
   "source": [
    "import requests\n",
    "start_url = 'http://www.chejinbao.cn/cars/online.html?brandID=&seriesID=&startprice=&endprice=&model=&emissions=&version=&saleType=&year=&provinceID=&cityID=&orderByType='\n",
    "HEADERS = {\n",
    "    'Accept': 'text/html,application/xhtml+xml,application/xml;q=0.9,image/webp,image/apng,*/*;q=0.8',\n",
    "    'Accept-Encoding': 'gzip, deflate',\n",
    "    'Accept-Language': 'zh-CN,zh;q=0.8',\n",
    "    'Host': 'www.chejinbao.cn',\n",
    "    'Upgrade-Insecure-Requests': '1',\n",
    "    'User-Agent': 'Mozilla/5.0 (compatible, MSIE 11, Windows NT 6.3; Trident/7.0;  rv:11.0) like Gecko',\n",
    "    'Cookie': 'Hm_lvt_f605046808ea42a8f3df51b56641ab7d=1508816779; Hm_lpvt_f605046808ea42a8f3df51b56641ab7d=1508816779; __root_domain_v=.chejinbao.cn; _qddaz=QD.orbb3v.bctxtv.j952jxis; LXB_REFER=www.google.com; UM_distinctid=15f4c7f43cc87f-050fcd801a322-31637c01-1fa400-15f4c7f43cfb38; JSESSIONID=95644C5123E0172EAB7279E98B054555; _qdda=3-1.10ga5x; _qddab=3-wo4ra4.j95ci7p6; CNZZDATA1260972416=1067066284-1508816929-null%7C1508830980'\n",
    "}\n",
    "req = requests.get(start_url, headers=HEADERS)\n",
    "print(req.status_code)"
   ]
  },
  {
   "cell_type": "code",
   "execution_count": 6,
   "metadata": {
    "collapsed": true
   },
   "outputs": [],
   "source": [
    "from lxml import etree\n",
    "tree = etree.HTML(req.text.encode('utf-8'))"
   ]
  },
  {
   "cell_type": "code",
   "execution_count": 7,
   "metadata": {},
   "outputs": [
    {
     "data": {
      "text/plain": [
       "['\\r\\n       丰田 普拉多 2700\\r\\n      ',\n",
       " '\\r\\n      宝马 X6 3.0L\\r\\n      ',\n",
       " '\\r\\n       宝马  X5  3.0L\\r\\n      ',\n",
       " '\\r\\n      丰田 穿越者 2700\\r\\n       ',\n",
       " '\\r\\n       丰田 兰德酷路泽 4000\\r\\n      ',\n",
       " '\\r\\n       捷豹 F-PACE 2.0L\\r\\n      ',\n",
       " '\\r\\n      福特 探险者 2.3L\\r\\n       ',\n",
       " '\\r\\n       路虎 揽胜行政 3.0L\\r\\n      ',\n",
       " '\\r\\n       日产 途乐 4.0L\\r\\n      ',\n",
       " '\\r\\n      丰田 普拉多 4000\\r\\n       ',\n",
       " '\\r\\n       奥迪 Q7  3.0L\\r\\n      ',\n",
       " '\\r\\n       保时捷 卡宴 3.0L\\r\\n      ']"
      ]
     },
     "execution_count": 7,
     "metadata": {},
     "output_type": "execute_result"
    }
   ],
   "source": [
    "tree.xpath('//div[@class=\"describe\"]/text()')"
   ]
  },
  {
   "cell_type": "code",
   "execution_count": 1,
   "metadata": {
    "collapsed": true
   },
   "outputs": [],
   "source": [
    "import requests"
   ]
  },
  {
   "cell_type": "code",
   "execution_count": 6,
   "metadata": {
    "collapsed": true
   },
   "outputs": [],
   "source": [
    "url = 'https://mall.autohome.com.cn/list/0-999999-0-0-0-0-0-0-0-1.html?factoryId=0&minPrice=-1&maxPrice=-1&specId=0&stageTag=0&importTag=1&double11Tag=0&prefix=&dataSource=&minDownPay=&maxDownPay=&businessType=&providerId='\n",
    "headers = {\n",
    "    'Cookie': 'sessionid=7998F0BB-1D51-EC57-FA22-6D0D9D1CCFE6%7C%7C2016-01-10+10%3A49%3A58.174%7C%7Cwww.google.com; fvlid=1467993576377O8YaFrge; WarningClose=1; UM_distinctid=15e3cb23a862c-09011349eddaac-143a6d54-1aeaa0-15e3cb23a87bf5; historybbsName4=c-588%7C%E5%A5%94%E9%A9%B0C%E7%BA%A7; cityId=110100; cookieCityId=120100; ahpau=1; nologinid-voteid=636185841200229140; PraiseKey=4032c70a-54db-4192-867b-eeedec08397e; __utma=1.516336464.1452394200.1468077953.1506872540.15; __utmc=1; __utmz=1.1506872540.15.1.utmcsr=autohome.com.cn|utmccn=(referral)|utmcmd=referral|utmcct=/3294/; mallsfvi=1506902163496A8cMwZ8i%7Cwww.autohome.com.cn%7C2018267; product_compare=27363%2C27364; ahsids=703_162_415_264_95_4175; sessionip=111.160.31.234; wwwjbtab=0%2C0; sessionuid=7998F0BB-1D51-EC57-FA22-6D0D9D1CCFE6%7C%7C2016-01-10+10%3A49%3A58.174%7C%7Cwww.google.com; mpvareaid=2018223; mallslvi=2018223%7C0%7C1508909609247Xqluq0fw; hasGetRedPackage=0; mallCityId=999999; ahpvno=41; ref=www.google.com%7C0%7C0%7C0%7C2017-10-25+13%3A35%3A48.316%7C2017-10-25+11%3A46%3A38.483; sessionvid=FF4C43FD-71D0-419D-8083-C80AB1C41DEC; area=120199; ahrlid=1508909744864n4NNbE6K-1508909755006',\n",
    "    'User-Agent': 'Mozilla/5.0 (Macintosh; Intel Mac OS X 10_13_0) AppleWebKit/537.36 (KHTML, like Gecko) Chrome/61.0.3163.100 Safari/537.36',\n",
    "    'Host': 'mall.autohome.com.cn',\n",
    "    'Referer': 'https://mall.autohome.com.cn/list/0-120100-0-0-0-0-0-0-0-1.html?factoryId=0&minPrice=-1&maxPrice=-1&specId=0&stageTag=0&importTag=1&double11Tag=0&prefix=&dataSource=&minDownPay=&maxDownPay=&businessType=&providerId=',\n",
    "    'X-Requested-With': 'XMLHttpRequest',\n",
    "    'Accept': '*/*',\n",
    "    'Accept-Encoding': 'gzip,deflate,br',\n",
    "    'Accept-Language': 'zh-CN,zh;q=0.8',\n",
    "    'Upgrade-Insecure-Requests': '1'\n",
    "}"
   ]
  },
  {
   "cell_type": "code",
   "execution_count": 7,
   "metadata": {
    "collapsed": true
   },
   "outputs": [],
   "source": [
    "req = requests.get(url, headers=headers)"
   ]
  },
  {
   "cell_type": "code",
   "execution_count": 8,
   "metadata": {},
   "outputs": [
    {
     "data": {
      "text/plain": [
       "200"
      ]
     },
     "execution_count": 8,
     "metadata": {},
     "output_type": "execute_result"
    }
   ],
   "source": [
    "req.status_code"
   ]
  },
  {
   "cell_type": "code",
   "execution_count": 9,
   "metadata": {},
   "outputs": [],
   "source": [
    "from lxml import etree\n",
    "tree = etree.HTML(req.text.encode('utf-8'))"
   ]
  },
  {
   "cell_type": "code",
   "execution_count": 10,
   "metadata": {},
   "outputs": [
    {
     "data": {
      "text/plain": [
       "['\\n                     Mustang  2017款 2.3T美规自动挡标配\\n                  ',\n",
       " '\\n                     丰田 兰德酷路泽(进口) 2017款 兰德酷路泽4000  EXR 底挂单备 中东版\\n                  ',\n",
       " '\\n                     奔驰 奔驰GLS 2017款 汽油3.0T 奔驰GLS450 美规\\n                  ',\n",
       " '\\n                     丰田 兰德酷路泽(进口) 2017款中东版兰德酷路泽4.0\\n                  ',\n",
       " '\\n                     日产 途乐 2017款 4.0L 低配中东版\\n                  ',\n",
       " '\\n                     日产 途乐 2017款 4.0L 低配中东版\\n                  ',\n",
       " '\\n                     2017款宝马X6 M 运动套件版\\n                  ',\n",
       " '\\n                     丰田 普拉多(进口) 2017款 汽油2.7L 中东版\\n                  ',\n",
       " '\\n                     日产 途乐 2017款 4.0L 低配中东版\\n                  ',\n",
       " '\\n                     日产 途乐 2017款 4.0L SE中东版\\n                  ',\n",
       " '\\n                     日产 途乐 2017款 4.0L SE中东版\\n                  ',\n",
       " '\\n                     丰田 普拉多(进口) 2017款 汽油2.7L 中东版\\n                  ',\n",
       " '\\n                     奔驰 奔驰GLS 2017款 汽油3.0T 奔驰GLS450 美规\\n                  ',\n",
       " '\\n                     丰田 兰德酷路泽(进口) 2017款 兰德酷路泽4000  EXR 底挂单备 中东版\\n                  ',\n",
       " '\\n                     日产 途乐 2017款 4.0L 低配中东版\\n                  ',\n",
       " '\\n                     奔驰GLS  2017款 汽油3.0T 奔驰GLS450 美规\\n                  ',\n",
       " '\\n                     福特 Mustang 2017款 2.3T美规自动挡标配\\n                  ',\n",
       " '\\n                     奥迪Q7  奥迪Q7 2017款 汽油3.0T 加规科技版 7座\\n                  ',\n",
       " '\\n                     宝马 X5 2016款 xDrive35i 中东版\\n                  ',\n",
       " '\\n                     途乐  2017款 4.0L 低配中东版\\n                  ',\n",
       " '\\n                     宝马 宝马X5 2016款宝马X5 欧规\\n                  ',\n",
       " '\\n                     宝马X6  2016款X6 xDrive35i\\n                  ',\n",
       " '\\n                     宝马X6  2016款X6 xDrive35i\\n                  ',\n",
       " '\\n                     奔驰 奔驰GLS 2017款 汽油3.0T 奔驰GLS450 美规\\n                  ']"
      ]
     },
     "execution_count": 10,
     "metadata": {},
     "output_type": "execute_result"
    }
   ],
   "source": [
    "tree.xpath('//div[@class=\"carbox-title\"]/text()')"
   ]
  },
  {
   "cell_type": "code",
   "execution_count": 11,
   "metadata": {},
   "outputs": [
    {
     "name": "stdout",
     "output_type": "stream",
     "text": [
      "https://mall.autohome.com.cn/list/0-999999-0-0-0-0-0-0-0-1.html?factoryId=0&minPrice=-1&maxPrice=-1&specId=0&stageTag=0&importTag=1&double11Tag=0&prefix=&dataSource=&minDownPay=&maxDownPay=&businessType=&providerId=\n"
     ]
    }
   ],
   "source": [
    "print(url)"
   ]
  },
  {
   "cell_type": "code",
   "execution_count": 12,
   "metadata": {},
   "outputs": [
    {
     "data": {
      "text/plain": [
       "['/list/0-999999-0-0-0-0-0-0-0-1.html?factoryId=0&minPrice=-1&maxPrice=-1&stageTag=0&importTag=1&double11Tag=0&dataSource=&eventId=&eventProcessId=&providerId=&itemIds=&eventProcessIds=&providerIds=&dataSources=&specId=0&minDownPay=&maxDownPay=&businessType=',\n",
       " '/list/0-999999-0-0-0-0-0-0-0-2.html?factoryId=0&minPrice=-1&maxPrice=-1&stageTag=0&importTag=1&double11Tag=0&dataSource=&eventId=&eventProcessId=&providerId=&itemIds=&eventProcessIds=&providerIds=&dataSources=&specId=0&minDownPay=&maxDownPay=&businessType=',\n",
       " '/list/0-999999-0-0-0-0-0-0-0-3.html?factoryId=0&minPrice=-1&maxPrice=-1&stageTag=0&importTag=1&double11Tag=0&dataSource=&eventId=&eventProcessId=&providerId=&itemIds=&eventProcessIds=&providerIds=&dataSources=&specId=0&minDownPay=&maxDownPay=&businessType=',\n",
       " '/list/0-999999-0-0-0-0-0-0-0-4.html?factoryId=0&minPrice=-1&maxPrice=-1&stageTag=0&importTag=1&double11Tag=0&dataSource=&eventId=&eventProcessId=&providerId=&itemIds=&eventProcessIds=&providerIds=&dataSources=&specId=0&minDownPay=&maxDownPay=&businessType=',\n",
       " '/list/0-999999-0-0-0-0-0-0-0-5.html?factoryId=0&minPrice=-1&maxPrice=-1&stageTag=0&importTag=1&double11Tag=0&dataSource=&eventId=&eventProcessId=&providerId=&itemIds=&eventProcessIds=&providerIds=&dataSources=&specId=0&minDownPay=&maxDownPay=&businessType=']"
      ]
     },
     "execution_count": 12,
     "metadata": {},
     "output_type": "execute_result"
    }
   ],
   "source": [
    "tree.xpath('//span[@class=\"pager-pageindex\"]/a/@href')"
   ]
  },
  {
   "cell_type": "code",
   "execution_count": null,
   "metadata": {
    "collapsed": true
   },
   "outputs": [],
   "source": []
  }
 ],
 "metadata": {
  "kernelspec": {
   "display_name": "Python 3",
   "language": "python",
   "name": "python3"
  },
  "language_info": {
   "codemirror_mode": {
    "name": "ipython",
    "version": 3
   },
   "file_extension": ".py",
   "mimetype": "text/x-python",
   "name": "python",
   "nbconvert_exporter": "python",
   "pygments_lexer": "ipython3",
   "version": "3.6.3"
  }
 },
 "nbformat": 4,
 "nbformat_minor": 2
}
