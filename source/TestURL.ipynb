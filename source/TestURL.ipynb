{
 "cells": [
  {
   "cell_type": "code",
   "execution_count": 1,
   "metadata": {},
   "outputs": [
    {
     "name": "stdout",
     "output_type": "stream",
     "text": [
      "200\n"
     ]
    }
   ],
   "source": [
    "import requests\n",
    "start_url = 'http://www.chejinbao.cn/cars/online.html?brandID=&seriesID=&startprice=&endprice=&model=&emissions=&version=&saleType=&year=&provinceID=&cityID=&orderByType='\n",
    "HEADERS = {\n",
    "    'Accept': 'text/html,application/xhtml+xml,application/xml;q=0.9,image/webp,image/apng,*/*;q=0.8',\n",
    "    'Accept-Encoding': 'gzip, deflate',\n",
    "    'Accept-Language': 'zh-CN,zh;q=0.8',\n",
    "    'Host': 'www.chejinbao.cn',\n",
    "    'Upgrade-Insecure-Requests': '1',\n",
    "    'User-Agent': 'Mozilla/5.0 (compatible, MSIE 11, Windows NT 6.3; Trident/7.0;  rv:11.0) like Gecko',\n",
    "    'Cookie': 'Hm_lvt_f605046808ea42a8f3df51b56641ab7d=1508816779; Hm_lpvt_f605046808ea42a8f3df51b56641ab7d=1508816779; __root_domain_v=.chejinbao.cn; _qddaz=QD.orbb3v.bctxtv.j952jxis; LXB_REFER=www.google.com; UM_distinctid=15f4c7f43cc87f-050fcd801a322-31637c01-1fa400-15f4c7f43cfb38; JSESSIONID=95644C5123E0172EAB7279E98B054555; _qdda=3-1.10ga5x; _qddab=3-wo4ra4.j95ci7p6; CNZZDATA1260972416=1067066284-1508816929-null%7C1508830980'\n",
    "}\n",
    "req = requests.get(start_url, headers=HEADERS)\n",
    "print(req.status_code)"
   ]
  },
  {
   "cell_type": "code",
   "execution_count": 6,
   "metadata": {
    "collapsed": true
   },
   "outputs": [],
   "source": [
    "from lxml import etree\n",
    "tree = etree.HTML(req.text.encode('utf-8'))"
   ]
  },
  {
   "cell_type": "code",
   "execution_count": 7,
   "metadata": {},
   "outputs": [
    {
     "data": {
      "text/plain": [
       "['\\r\\n       丰田 普拉多 2700\\r\\n      ',\n",
       " '\\r\\n      宝马 X6 3.0L\\r\\n      ',\n",
       " '\\r\\n       宝马  X5  3.0L\\r\\n      ',\n",
       " '\\r\\n      丰田 穿越者 2700\\r\\n       ',\n",
       " '\\r\\n       丰田 兰德酷路泽 4000\\r\\n      ',\n",
       " '\\r\\n       捷豹 F-PACE 2.0L\\r\\n      ',\n",
       " '\\r\\n      福特 探险者 2.3L\\r\\n       ',\n",
       " '\\r\\n       路虎 揽胜行政 3.0L\\r\\n      ',\n",
       " '\\r\\n       日产 途乐 4.0L\\r\\n      ',\n",
       " '\\r\\n      丰田 普拉多 4000\\r\\n       ',\n",
       " '\\r\\n       奥迪 Q7  3.0L\\r\\n      ',\n",
       " '\\r\\n       保时捷 卡宴 3.0L\\r\\n      ']"
      ]
     },
     "execution_count": 7,
     "metadata": {},
     "output_type": "execute_result"
    }
   ],
   "source": [
    "tree.xpath('//div[@class=\"describe\"]/text()')"
   ]
  },
  {
   "cell_type": "code",
   "execution_count": 1,
   "metadata": {
    "collapsed": true
   },
   "outputs": [],
   "source": [
    "import requests"
   ]
  },
  {
   "cell_type": "code",
   "execution_count": 2,
   "metadata": {},
   "outputs": [],
   "source": [
    "url = 'https://mall.autohome.com.cn/list/0-999999-0-0-0-0-0-0-0-1.html?factoryId=0&minPrice=-1&maxPrice=-1&specId=0&stageTag=0&importTag=1&double11Tag=0&prefix=&dataSource=&minDownPay=&maxDownPay=&businessType=&providerId='\n",
    "headers = {\n",
    "    'Cookie': 'UM_distinctid=15f50c9c9222c2-02ae0f49d2afbb-31657c00-384000-15f50c9c923681; fvlid=1508888921932UuGMXqGaBI; sessionip=117.15.125.251; sessionid=C30F3DFE-3553-4381-AF57-BBF39F1497C3%7C%7C2017-10-25+07%3A48%3A47.666%7C%7C0; ahpau=1; ahsids=4348; sessionuid=C30F3DFE-3553-4381-AF57-BBF39F1497C3%7C%7C2017-10-25+07%3A48%3A47.666%7C%7C0; mpvareaid=2023627; mallsfvi=1508929472012tWqpLlMq%7Cwww.autohome.com.cn%7C103414; mallslvi=103414%7Cwww.autohome.com.cn%7C1508929472012tWqpLlMq; hasGetRedPackage=0; mallCityId=999999; ref=0%7C0%7C0%7C0%7C2017-10-25+19%3A06%3A16.411%7C2017-10-25+07%3A48%3A47.666; sessionvid=E65FCEDE-5490-493A-87E2-0F9833500B7D; area=120199; ahpvno=24',\n",
    "    'User-Agent': 'Mozilla/5.0 (Macintosh; Intel Mac OS X 10_13_0) AppleWebKit/537.36 (KHTML, like Gecko) Chrome/61.0.3163.100 Safari/537.36',\n",
    "    'Host': 'mall.autohome.com.cn',\n",
    "    'Referer': 'https://mall.autohome.com.cn/list/0-999999-0-0-0-0-0-0-0-1.html?factoryId=0&minPrice=-1&maxPrice=-1&stageTag=0&importTag=1&double11Tag=0&dataSource=&eventId=&eventProcessId=&providerId=&itemIds=&eventProcessIds=&providerIds=&dataSources=&specId=0&minDownPay=&maxDownPay=&businessType=',\n",
    "    'X-Requested-With': 'XMLHttpRequest',\n",
    "    'Accept': '*/*',\n",
    "    'Accept-Encoding': 'gzip,deflate,br',\n",
    "    'Accept-Language': 'zh-CN,zh;q=0.8',\n",
    "    'Upgrade-Insecure-Requests': '1'\n",
    "}"
   ]
  },
  {
   "cell_type": "code",
   "execution_count": 3,
   "metadata": {},
   "outputs": [],
   "source": [
    "req = requests.get(url, headers=headers)"
   ]
  },
  {
   "cell_type": "code",
   "execution_count": 4,
   "metadata": {},
   "outputs": [
    {
     "data": {
      "text/plain": [
       "200"
      ]
     },
     "execution_count": 4,
     "metadata": {},
     "output_type": "execute_result"
    }
   ],
   "source": [
    "req.status_code"
   ]
  },
  {
   "cell_type": "code",
   "execution_count": 5,
   "metadata": {},
   "outputs": [],
   "source": [
    "from lxml import etree\n",
    "tree = etree.HTML(req.text.encode('utf-8'))"
   ]
  },
  {
   "cell_type": "code",
   "execution_count": 23,
   "metadata": {},
   "outputs": [
    {
     "data": {
      "text/plain": [
       "['\\n\\t\\n\\n    \\t',\n",
       " '¥',\n",
       " '\\n        \\t',\n",
       " '¥',\n",
       " '40.00万',\n",
       " '\\n        \\t',\n",
       " '\\n\\t',\n",
       " '\\n                      ',\n",
       " '赠',\n",
       " '\\n\\n                              ',\n",
       " '\\n                              ',\n",
       " '\\n\\n\\n                  ']"
      ]
     },
     "execution_count": 23,
     "metadata": {},
     "output_type": "execute_result"
    }
   ],
   "source": [
    "car = tree.xpath('//li[@class=\"carbox\"]')[0]\n",
    "car.xpath('./a/div[@class=\"carbox-info\"]//text()')"
   ]
  },
  {
   "cell_type": "code",
   "execution_count": 9,
   "metadata": {},
   "outputs": [
    {
     "name": "stdout",
     "output_type": "stream",
     "text": [
      "https://mall.autohome.com.cn/list/0-999999-0-0-0-0-0-0-0-1.html?factoryId=0&minPrice=-1&maxPrice=-1&specId=0&stageTag=0&importTag=1&double11Tag=0&prefix=&dataSource=&minDownPay=&maxDownPay=&businessType=&providerId=\n"
     ]
    }
   ],
   "source": [
    "print(url)"
   ]
  },
  {
   "cell_type": "code",
   "execution_count": 12,
   "metadata": {},
   "outputs": [
    {
     "data": {
      "text/plain": [
       "['/list/0-999999-0-0-0-0-0-0-0-1.html?factoryId=0&minPrice=-1&maxPrice=-1&stageTag=0&importTag=1&double11Tag=0&dataSource=&eventId=&eventProcessId=&providerId=&itemIds=&eventProcessIds=&providerIds=&dataSources=&specId=0&minDownPay=&maxDownPay=&businessType=',\n",
       " '/list/0-999999-0-0-0-0-0-0-0-2.html?factoryId=0&minPrice=-1&maxPrice=-1&stageTag=0&importTag=1&double11Tag=0&dataSource=&eventId=&eventProcessId=&providerId=&itemIds=&eventProcessIds=&providerIds=&dataSources=&specId=0&minDownPay=&maxDownPay=&businessType=',\n",
       " '/list/0-999999-0-0-0-0-0-0-0-3.html?factoryId=0&minPrice=-1&maxPrice=-1&stageTag=0&importTag=1&double11Tag=0&dataSource=&eventId=&eventProcessId=&providerId=&itemIds=&eventProcessIds=&providerIds=&dataSources=&specId=0&minDownPay=&maxDownPay=&businessType=',\n",
       " '/list/0-999999-0-0-0-0-0-0-0-4.html?factoryId=0&minPrice=-1&maxPrice=-1&stageTag=0&importTag=1&double11Tag=0&dataSource=&eventId=&eventProcessId=&providerId=&itemIds=&eventProcessIds=&providerIds=&dataSources=&specId=0&minDownPay=&maxDownPay=&businessType=',\n",
       " '/list/0-999999-0-0-0-0-0-0-0-5.html?factoryId=0&minPrice=-1&maxPrice=-1&stageTag=0&importTag=1&double11Tag=0&dataSource=&eventId=&eventProcessId=&providerId=&itemIds=&eventProcessIds=&providerIds=&dataSources=&specId=0&minDownPay=&maxDownPay=&businessType=']"
      ]
     },
     "execution_count": 12,
     "metadata": {},
     "output_type": "execute_result"
    }
   ],
   "source": [
    "tree.xpath('//span[@class=\"pager-pageindex\"]/a/@href')"
   ]
  },
  {
   "cell_type": "code",
   "execution_count": null,
   "metadata": {
    "collapsed": true
   },
   "outputs": [],
   "source": []
  }
 ],
 "metadata": {
  "kernelspec": {
   "display_name": "Python 3",
   "language": "python",
   "name": "python3"
  },
  "language_info": {
   "codemirror_mode": {
    "name": "ipython",
    "version": 3
   },
   "file_extension": ".py",
   "mimetype": "text/x-python",
   "name": "python",
   "nbconvert_exporter": "python",
   "pygments_lexer": "ipython3",
   "version": "3.6.3"
  }
 },
 "nbformat": 4,
 "nbformat_minor": 2
}
