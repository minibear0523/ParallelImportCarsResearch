{
 "cells": [
  {
   "cell_type": "code",
   "execution_count": 1,
   "metadata": {},
   "outputs": [
    {
     "name": "stdout",
     "output_type": "stream",
     "text": [
      "200\n"
     ]
    }
   ],
   "source": [
    "start_url = 'http://www.chejinbao.cn/cars/online.html'\n",
    "HEADERS = {\n",
    "    'Accept': 'text/html,application/xhtml+xml,application/xml;q=0.9,image/webp,image/apng,*/*;q=0.8',\n",
    "    'Accept-Encoding': 'gzip, deflate',\n",
    "    'Accept-Language': 'zh-CN,zh;q=0.8',\n",
    "    'Host': 'www.chejinbao.cn',\n",
    "    'Upgrade-Insecure-Requests': '1',\n",
    "    'User-Agent': 'Mozilla/5.0 (compatible, MSIE 11, Windows NT 6.3; Trident/7.0;  rv:11.0) like Gecko',\n",
    "    'Cookie': 'Hm_lvt_f605046808ea42a8f3df51b56641ab7d=1508816779; Hm_lpvt_f605046808ea42a8f3df51b56641ab7d=1508816779; __root_domain_v=.chejinbao.cn; _qddaz=QD.orbb3v.bctxtv.j952jxis; LXB_REFER=www.google.com; UM_distinctid=15f4c7f43cc87f-050fcd801a322-31637c01-1fa400-15f4c7f43cfb38; JSESSIONID=95644C5123E0172EAB7279E98B054555; _qdda=3-1.10ga5x; _qddab=3-wo4ra4.j95ci7p6; CNZZDATA1260972416=1067066284-1508816929-null%7C1508830980'\n",
    "}\n",
    "req = requests.get(start_url, headers=HEADERS)\n",
    "print(req.status_code)"
   ]
  },
  {
   "cell_type": "code",
   "execution_count": 2,
   "metadata": {
    "collapsed": true
   },
   "outputs": [],
   "source": [
    "from lxml import etree\n",
    "tree = etree.HTML(req.text.encode('utf-8'))"
   ]
  },
  {
   "cell_type": "code",
   "execution_count": 3,
   "metadata": {},
   "outputs": [
    {
     "data": {
      "text/plain": [
       "['\\r\\n       丰田 普拉多 2700\\r\\n      ',\n",
       " '\\r\\n      宝马 X6 3.0L\\r\\n      ',\n",
       " '\\r\\n       宝马  X5  3.0L\\r\\n      ',\n",
       " '\\r\\n      丰田 穿越者 2700\\r\\n       ',\n",
       " '\\r\\n       丰田 兰德酷路泽 4000\\r\\n      ',\n",
       " '\\r\\n       捷豹 F-PACE 2.0L\\r\\n      ',\n",
       " '\\r\\n      福特 探险者 2.3L\\r\\n       ',\n",
       " '\\r\\n       路虎 揽胜行政 3.0L\\r\\n      ',\n",
       " '\\r\\n       日产 途乐 4.0L\\r\\n      ',\n",
       " '\\r\\n      丰田 普拉多 4000\\r\\n       ',\n",
       " '\\r\\n       奥迪 Q7  3.0L\\r\\n      ',\n",
       " '\\r\\n       保时捷 卡宴 3.0L\\r\\n      ']"
      ]
     },
     "execution_count": 3,
     "metadata": {},
     "output_type": "execute_result"
    }
   ],
   "source": [
    "tree.xpath('//div[@class=\"describe\"]/text()')"
   ]
  },
  {
   "cell_type": "code",
   "execution_count": null,
   "metadata": {
    "collapsed": true
   },
   "outputs": [],
   "source": []
  }
 ],
 "metadata": {
  "kernelspec": {
   "display_name": "Python 3",
   "language": "python",
   "name": "python3"
  },
  "language_info": {
   "codemirror_mode": {
    "name": "ipython",
    "version": 3
   },
   "file_extension": ".py",
   "mimetype": "text/x-python",
   "name": "python",
   "nbconvert_exporter": "python",
   "pygments_lexer": "ipython3",
   "version": "3.6.3"
  }
 },
 "nbformat": 4,
 "nbformat_minor": 2
}
